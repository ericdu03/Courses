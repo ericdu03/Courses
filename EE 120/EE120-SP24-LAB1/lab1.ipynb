{
 "cells": [
  {
   "cell_type": "code",
   "execution_count": null,
   "metadata": {
    "deletable": false,
    "editable": false
   },
   "outputs": [],
   "source": [
    "# Initialize Otter\n",
    "import otter\n",
    "grader = otter.Notebook(\"lab1.ipynb\")"
   ]
  },
  {
   "cell_type": "code",
   "execution_count": null,
   "metadata": {
    "deletable": false,
    "editable": false
   },
   "outputs": [],
   "source": [
    "# Initialize Otter\n",
    "import otter\n",
    "grader = otter.Notebook(\"lab1.ipynb\")"
   ]
  },
  {
   "cell_type": "markdown",
   "metadata": {},
   "source": [
    "# EE 120 Lab 1: Python for Signals and Systems\n",
    "\n",
    "**Signals and Systems** at UC Berkeley\n",
    "\n",
    "Acknowledgements:\n",
    "\n",
    "- **Spring 2019** (v1.0): Dominic Carrano, Babak Ayazifar  \n",
    "- **Fall 2019** (v2.0): Dominic Carrano  \n",
    "- **Spring 2020** (v3.0): Dominic Carrano\n",
    "- **Fall 2020** (v3.1): Anmol Parande\n",
    "- **Fall 2021** (v4.0): Anmol Parande\n",
    "- **Fall 2022, Spring 2023** (v4.1): Naomi Sagan"
   ]
  },
  {
   "cell_type": "code",
   "execution_count": null,
   "metadata": {},
   "outputs": [],
   "source": [
    "# Click on me and hit Shift + Enter!\n",
    "import numpy as np\n",
    "import matplotlib.pyplot as plt\n",
    "import time\n",
    "import lab1_helper\n",
    "import IPython.display as ipd\n",
    "from scipy.io import wavfile\n",
    "%matplotlib inline"
   ]
  },
  {
   "cell_type": "markdown",
   "metadata": {},
   "source": [
    "# Jupyter Notebook \"Labs\"?\n",
    "\n",
    "We introduced Jupyter Notebook based Python labs — which are essentially coding-based homeworks — to EE 120 in the spring 2019 semester. We've designed these labs to:\n",
    "1. Demonstrate real-life applications of the content covered in lecture;\n",
    "2. Cultivate computational literacy by adding NumPy, SciPy and Matplotlib to your toolkit for future industry and research endeavors; and\n",
    "3. Have a self-contained structure, with all the information necessary to complete the lab inside it, even though most lab topics are not covered in lecture.\n",
    "\n",
    "Generally, these labs follow a standard format.\n",
    "- **Background**: Context for what the lab is about, and how it ties into lecture content.\n",
    "- **Questions**: Coding tasks for you to complete and conceptual questions to answer as you work toward implementing a concrete piece of signals and systems.\n",
    "- **References**: Various additional sources you may find useful in completing the lab, or that we used to create it.\n",
    "\n",
    "We've invested a lot of time and effort into making these labs interesting and application-driven and hope that you find them both informative and fun. We welcome and encourage any feedback you have on them — it's an invaluable source of data for us. The versions you're working with this semester are *far* superior to the originals that were deployed in spring 2019 thanks to all the student feedback we've incorporated."
   ]
  },
  {
   "cell_type": "markdown",
   "metadata": {},
   "source": [
    "# Submitting The Notebooks\n",
    "\n",
    "All questions that you're required to complete (mostly coding, some conceptual) have prompts. Some questions are marked as optional, and we do not grade these questions. You will *not* earn extra credit for completing them; they just serve as extra practice and examples.\n",
    "\n",
    "Some questions will be graded using test cases you have access to in this notebook. Others will be graded using hidden test cases. Yet others will be graded manually. We use the [otter-grader package](https://otter-grader.readthedocs.io/en/latest/) to grade assignments.This should be automatically installed on Datahub.\n",
    "\n",
    "At the end of every notebook, there will be instructions for how to submit your solutions.\n",
    "\n",
    "**IMPORTANT**: Make sure none of your code cells have extra `print` statements (except those we ask you to write or write ourselves). This will cause tests to fail."
   ]
  },
  {
   "cell_type": "markdown",
   "metadata": {},
   "source": [
    "# Q1: Play That Funky Music\n",
    "\n",
    "To start off, let's make some music! \n",
    "\n",
    "The Western music scale groups *notes*, which are sinusoids at a single frequency (referred to as *pure tones* among engineers), into *octaves* which contain 12 notes: $A, A\\#, B, C, C\\#, D, D\\#, E, F, F\\#, G, G\\#$. \n",
    "\n",
    "Most instruments are capable of playing notes at several different octaves. In the case of a piano, shown below, the octaves are physically concatenated together, with notes further to the right corresponding to higher frequencies.\n",
    "\n",
    "&nbsp;\n",
    " \n",
    "<img src=\"figures/piano-layout.jpg\" width=800em />\n",
    "\n",
    "&nbsp;\n",
    "\n",
    "Sometimes $A\\#$ (pronounced \"A sharp\") is also referred to as $B\\flat$ (pronounced \"B flat\"), and similarly $C\\#$ as $D\\flat$, and so on, hence the double-labellings on the diagram. We'll stick to the convention of using sharps rather than flats. **The C note under the word \"Piano\" in the diagram's title is known as *Middle C*, and is a commonly used reference point.**\n",
    "\n",
    "The frequencies represented by each note are on a logarithmic scale, so that moving to the right by a single note scales the frequency by $2^{1/12}$. There are twelve notes per octave, so moving right by twelve notes **doubles** the frequency, generating a *harmonic* of the fundamental. In this question, we'll explore the connection between signals and combinations of waves. We'll also gain some concrete intuition for what the abstract mathematical properties of (sinusoidal) signals, such as amplitude, frequency, and phase, sound like."
   ]
  },
  {
   "cell_type": "markdown",
   "metadata": {},
   "source": [
    "## Q1a: Pure Tones\n",
    "\n",
    "To start off, we're going to consider notes in the octave containing middle C. We know that moving up one note multiplies the frequency by $2^{1/12}$, so that moving up an octave doubles the frequency, but we also need a start point. We'll use the [A440 pitch standard](https://en.wikipedia.org/wiki/A440_(pitch_standard)) to resolve this dilemma, which says that the \"A\" note *above* Middle C on an instrument should be tuned to 440 Hz. This means that the \"A\" note *below* Middle C should be half this, or 220 Hz. \n",
    "\n",
    "We can climb up the middle C octave and generate each note's frequency by successive multiplications with $2^{1/12}$; run the cell below which uses this to print out the frequency associated to each note in this octave."
   ]
  },
  {
   "cell_type": "code",
   "execution_count": null,
   "metadata": {},
   "outputs": [],
   "source": [
    "notes = [\"A\", \"A#\", \"B\", \"C\", \"C#\", \"D\", \"D#\", \"E\", \"F\", \"F#\", \"G\", \"G#\"]\n",
    "middle_octave = [220 * 2 ** (i / 12) for i in range(12)]\n",
    "for i, note in enumerate(notes):\n",
    "    print(\"{0}:\\t{1} Hz\".format(note, round(middle_octave[i], 2)))"
   ]
  },
  {
   "cell_type": "markdown",
   "metadata": {},
   "source": [
    "To save you some time, we've accumulated these into a dictionary object, `note_freqs`, for you to use. \n",
    "\n",
    "If you're unfamiliar with dictionaries, they're similar to lists, except that instead of being indexed by integers from $0$ to $\\text{Length of list } - 1$, they can be indexed by almost anything, including strings. For example, `note_freqs[\"A\"]` would return 220. Feel free to make a new cell and play around with it to get comfortable. "
   ]
  },
  {
   "cell_type": "code",
   "execution_count": null,
   "metadata": {},
   "outputs": [],
   "source": [
    "# For Middle C octave\n",
    "note_freqs = {\"A\": 220, \"A#\": 233, \"B\": 247, \"C\": 262, \"C#\": 277, \"D\": 294, \\\n",
    "              \"D#\": 311, \"E\": 330, \"F\": 349, \"F#\": 370, \"G\": 392, \"G#\": 415}"
   ]
  },
  {
   "cell_type": "markdown",
   "metadata": {},
   "source": [
    "Mathematically, we represent a note with frequency $f$ as a sine wave at that frequency with some amplitude $A$ and phase $\\phi$,\n",
    "\n",
    "$$A \\sin(2\\pi f t + \\phi),$$\n",
    "\n",
    "where the amplitude $A$ would be determined by how hard the note on the piano is physically pressed (and correspondingly how loud it sounds) and the phase $\\phi$ corresponding to a temporal offset is typically just taken to be zero.\n",
    "\n",
    "Using this, your job is to implement the `pure_tone_gen` function below according to the docstring. You should use `note_freqs` in your function.\n",
    "\n",
    "**Note on frequencies (pun intended)**:\n",
    "- If `octave_offset` is 0, then the frequency of the sine wave is the value found in `note_freqs`.\n",
    "- If `octave_offset` is 1, then the frequency of the sine wave is the value found in `note_freqs`, doubled.\n",
    "If it is -1, then you half the frequency.\n",
    "- How does this extrapolate to larger octave offsets?\n",
    "\n",
    "**Hint 1:** We want the note to be played for `duration` seconds, and to use `fs` data points per second. This means that we'll need to generate the note over `fs * duration` samples (rounded to the nearest integer) from time zero to time `duration`. Check out [np.linspace](https://docs.scipy.org/doc/numpy/reference/generated/numpy.linspace.html) to help you do this. Due to how our tests are set up, **don't use [np.arange](https://numpy.org/doc/stable/reference/generated/numpy.arange.html)**.\n",
    "\n",
    "**Hint 2:** As covered in Lab 0, NumPy is smart about handling both array and scalar inputs to its functions. For example, `np.sin(np.pi / 2)` will return $\\sin(\\pi / 2)$. However, you can also pass in NumPy arrays and the function will be applied elementwise: `np.sin(np.array([0, np.pi / 2, np.pi, 3 * np.pi / 2]))` will return a numpy array containing $\\sin(0), \\sin(\\pi / 2), \\sin(\\pi), \\sin(3\\pi / 2)$. You can take advantage of this to make your implementation a lot simpler, avoiding the need to iterate over the entire array and manually call the function on each element.\n",
    "\n",
    "**Hint 3:** Think about the definition of a sine wave $A \\sin(2\\pi f t + \\phi)$. Which variables are fixed? Which variables are changing (and therefore require an array)?"
   ]
  },
  {
   "cell_type": "code",
   "execution_count": null,
   "metadata": {
    "tags": []
   },
   "outputs": [],
   "source": [
    "def pure_tone_gen(note, fs, duration, amplitude=1, phase=0, octave_offset=0):\n",
    "    \"\"\"\n",
    "    Generate a NumPy array which contains samples of a sine wave representing the note\n",
    "    \"note\" for exactly duration seconds with amplitude and phase as given. If the note is outside the middle C octave,\n",
    "    then octave_offset specifies how many octaves above or below it should be.\n",
    "    \n",
    "    Parameters:\n",
    "    note          - The note to generate. Some element of note_freqs (e.g., \"A\", \"A#\", \"B\", and so on).\n",
    "    fs            - The sampling frequency, that is, the number of samples to use per second of data generated.\n",
    "    duration      - The length, in seconds, of the pure tone to generate.\n",
    "    amplitude     - The amplitude of the note.\n",
    "    phase         - The phase of the note.\n",
    "    octave_offset - How many octaves below or above the octave {A, A#, ..., Middle C, ..., G, G#} the desired \n",
    "                    note is. For example, setting this parameter to zero and note to \"C\" would generate Middle C.\n",
    "    \"\"\"\n",
    "    ..."
   ]
  },
  {
   "cell_type": "markdown",
   "metadata": {
    "deletable": false,
    "editable": false
   },
   "source": [
    "We'll test our function in two different ways:\n",
    "- Listening to the output and verifying that it sounds how we expect it to.\n",
    "- Comparing the numerical values in the output against the correct arrays.\n",
    "\n",
    "First, we'll play the octave from A to A containing middle C, playing each note for one second, and make sure things sound okay. This is the better choice for our first mode of debugging because it contains much more information than a binary \"Yes/No\" about numbers matching up. This is especially true with audio signals, where the output arrays we generate will be very long — trying to manually make sense of hundreds of thousands of sample points would be a pain."
   ]
  },
  {
   "cell_type": "markdown",
   "metadata": {
    "deletable": false,
    "editable": false
   },
   "source": [
    "Run the cell below and click the play button to hear how a *correct* output will sound. **Make sure your volume is at an appropriate level before clicking play so you don't hurt your ears.**"
   ]
  },
  {
   "cell_type": "code",
   "execution_count": null,
   "metadata": {
    "deletable": false,
    "editable": false,
    "scrolled": true
   },
   "outputs": [],
   "source": [
    "ipd.Audio(\"middle_C_octave.wav\")"
   ]
  },
  {
   "cell_type": "markdown",
   "metadata": {
    "deletable": false,
    "editable": false
   },
   "source": [
    "The code below calls your function for each key in the `note_freqs` dictionary and concatenates them all into a single array. Run the cell below to play your version.\n",
    "\n",
    "**Warning: if your function is wrong, it's possible that you'll hear some high-pitched sounds that could be very unpleasant to your ears.** We recommend you take off any headphones and set your computer speakers to a low volume while debugging."
   ]
  },
  {
   "cell_type": "code",
   "execution_count": null,
   "metadata": {
    "deletable": false,
    "editable": false
   },
   "outputs": [],
   "source": [
    "fs = 44100\n",
    "scale = np.concatenate([pure_tone_gen(note, fs, 1) for note in note_freqs.keys()])\n",
    "ipd.Audio(data=scale, rate=fs)"
   ]
  },
  {
   "cell_type": "markdown",
   "metadata": {
    "deletable": false,
    "editable": false
   },
   "source": [
    "Once you have that working, run the cell below to play the melody from Queen's *Bohemian Rhapsody*. \n",
    "\n",
    "You can [listen to it on YouTube](https://www.youtube.com/watch?v=fJ9rUzIMcZQ) to get a sense for what it should sound like. The part played by the cell below is from 0:50 to 0:56 in the video. It's okay if it sounds a bit robotic rather than like a piano or other instrument; we have an optional extension to fix that later."
   ]
  },
  {
   "cell_type": "code",
   "execution_count": null,
   "metadata": {
    "deletable": false,
    "editable": false
   },
   "outputs": [],
   "source": [
    "melody = []\n",
    "for i in range(2):\n",
    "    melody.append(pure_tone_gen(\"A#\", fs, .4) + pure_tone_gen(\"D\", fs, .4))\n",
    "    melody.append(pure_tone_gen(\"F\", fs, .3, octave_offset=-1))\n",
    "    melody.append(pure_tone_gen(\"A#\", fs, .35))\n",
    "    melody.append(pure_tone_gen(\"D\", fs, .35))\n",
    "    melody.append(pure_tone_gen(\"G\", fs, .8))\n",
    "    melody.append(pure_tone_gen(\"F\", fs, .8))\n",
    "    \n",
    "melody = np.concatenate(melody)\n",
    "ipd.Audio(data=melody, rate=fs)"
   ]
  },
  {
   "cell_type": "markdown",
   "metadata": {
    "deletable": false,
    "editable": false
   },
   "source": [
    "Now that your function produces outputs that sound correct, try running some numerical test cases below. If the previous two tests sounded okay, you should pass these two tests."
   ]
  },
  {
   "cell_type": "code",
   "execution_count": null,
   "metadata": {
    "deletable": false,
    "editable": false
   },
   "outputs": [],
   "source": [
    "grader.check(\"q1a\")"
   ]
  },
  {
   "cell_type": "markdown",
   "metadata": {},
   "source": [
    "## Q1b: Chords\n",
    "\n",
    "Now, you have a function to generate pure tones. Pure tones are incredibly useful, as they form the basic building block of music.\n",
    "\n",
    "We can superimpose pure tones to create *chords*. Dealing with raw pure tones every time we want to play a chord is annoying though. We need something more high-level to work with, so let's write a new function to generate chords for us by superimposing pure tones. Notes in a chord are played at the same time, not one after another: rather than concatenating the note arrays so that the sounds come one after another, we want to **add these note arrays elementwise so they play in unison.**\n",
    "\n",
    "Implement the function `chord_gen` below which uses `pure_tone_gen` to generate a chord according to the docstring, saving us time in manually generating the chords. **You need a working `pure_tone_gen` to complete this part.**\n",
    "\n",
    "**Hint:** There are two possible approaches. You can either allocate a fixed length array of zeros and add each note with iteration, or you can [np.vstack](https://numpy.org/doc/stable/reference/generated/numpy.vstack.html) and [np.sum](https://numpy.org/doc/stable/reference/generated/numpy.sum.html) to reduce all the pure tones into a single array (look at the axis argument)."
   ]
  },
  {
   "cell_type": "code",
   "execution_count": null,
   "metadata": {
    "tags": []
   },
   "outputs": [],
   "source": [
    "def chord_gen(notes, fs, duration, amplitudes, phases, octave_offsets):\n",
    "    \"\"\"\n",
    "    Create a chord by superimposing multiple notes.\n",
    "    \n",
    "    Parameters:\n",
    "    notes          - The list of notes to play.\n",
    "    fs             - A single number for the sampling rate to use for all notes.\n",
    "    duration       - A single number for the duration of the chord to use.\n",
    "    amplitudes     - A list of the amplitudes to use.\n",
    "    phases         - A list of the phases to use.\n",
    "    octave_offsets - A list of the octave offsets to use.\n",
    "    \"\"\"\n",
    "    ..."
   ]
  },
  {
   "cell_type": "markdown",
   "metadata": {
    "deletable": false,
    "editable": false
   },
   "source": [
    "We don't include formal test cases to grade you on this part. Instead, run the cell below to play the chord progression from Maroon 5's *This Love*. The code below will play the first ~5 seconds of the song, available [here](https://www.youtube.com/watch?v=XPpTgCho5ZA) on YouTube. Again, it'll still sound a bit robotic, but that's fine."
   ]
  },
  {
   "cell_type": "code",
   "execution_count": null,
   "metadata": {
    "deletable": false,
    "editable": false
   },
   "outputs": [],
   "source": [
    "pause = np.zeros(30000)\n",
    "\n",
    "melody = []\n",
    "melody.append(chord_gen([\"B\", \"B\"], fs, .3, [1.5, 1.5], [0, 0], [-1, 0]))\n",
    "melody.append(pause)\n",
    "melody.append(chord_gen([\"B\", \"B\"], fs, .3, [1.5, 1.5], [0, 0], [-1, 0]))\n",
    "melody.append(chord_gen([\"D\", \"D\"], fs, .3, [1.5, 1.5], [0, 0], [-1, 0]))\n",
    "melody.append(chord_gen([\"C\", \"C\"], fs, .3, [1.5, 1.5], [0, 0], [-1, 0]))\n",
    "melody.append(pause)\n",
    "melody.append(chord_gen([\"G\", \"G\"], fs, .3, [1.5, 1.5], [0, 0], [-1, 0]))\n",
    "melody.append(chord_gen([\"F#\", \"F#\"], fs, .3, [1.5, 1.5], [0, 0], [-1, 0]))\n",
    "melody.append(chord_gen([\"F\", \"F\"], fs, .3, [1.5, 1.5], [0, 0], [-1, 0]))\n",
    "melody.append(pause)\n",
    "melody.append(chord_gen([\"F\", \"F\"], fs, .3, [1.5, 1.5], [0, 0], [-1, 0]))\n",
    "melody.append(chord_gen([\"D#\", \"D#\"], fs, .3, [1.5, 1.5], [0, 0], [-1, 0]))\n",
    "melody.append(chord_gen([\"D\", \"D\"], fs, .3, [1.5, 1.5], [0, 0], [-1, 0]))\n",
    "\n",
    "ipd.Audio(data=np.concatenate(melody), rate=fs)"
   ]
  },
  {
   "cell_type": "code",
   "execution_count": null,
   "metadata": {
    "deletable": false,
    "editable": false
   },
   "outputs": [],
   "source": [
    "grader.check(\"q1b\")"
   ]
  },
  {
   "cell_type": "markdown",
   "metadata": {},
   "source": [
    "## Q1c: It's Just a Phase\n",
    "\n",
    "**Please do this question in a quiet area with the volume at an appropriate level so you can hear everything.**\n",
    "\n",
    "We've seen that a pure tone at frequency $f$ is represented as\n",
    "\n",
    "$$A \\sin(2\\pi f t + \\phi)$$\n",
    "\n",
    "where $A$ is the amplitude and $\\phi$ is the phase. A large portion of this class is dedicated to decomposing signals in terms of pure tones (represented as complex exponentials rather than sines and cosines, although the two are equivalent through Euler's formula), so it's good to get acquainted with them now. \n",
    "\n",
    "A generous estimate of the typical human hearing range is 20 Hz to 20 kHz. For a given frequency $f$ inside the audible spectrum, we have two parameters we can vary for our pure tone: its amplitude, and its phase. A natural question to ask, then, is which our ear can distinguish better — amplitude or phase?"
   ]
  },
  {
   "cell_type": "markdown",
   "metadata": {
    "deletable": false,
    "editable": false
   },
   "source": [
    "<!-- BEGIN QUESTION -->\n",
    "\n",
    "### Q1c(i) Amplitude\n",
    "\n",
    "First, let's take a look at amplitude. A negative amplitude is equivalent to a positive one with a phase shift of $\\pi$ (since $\\sin(\\theta - \\pi) = -\\sin(\\theta)$), so we can restrict ourselves to the case when $A \\geq 0$. Let's listen to a few different amplitude settings."
   ]
  },
  {
   "cell_type": "code",
   "execution_count": null,
   "metadata": {
    "deletable": false,
    "editable": false
   },
   "outputs": [],
   "source": [
    "pause = np.zeros(int(fs * 0.5))\n",
    "\n",
    "volume_progression = np.concatenate([np.hstack((pure_tone_gen(\"C\", fs, duration=1.5, amplitude=ampl), pause))\n",
    "                                     for ampl in np.linspace(0, 1, 11)])\n",
    "ipd.Audio(data=volume_progression, rate=fs)"
   ]
  },
  {
   "cell_type": "markdown",
   "metadata": {
    "deletable": false,
    "editable": false
   },
   "source": [
    "**Q:** How many of the different amplitude settings could you tell apart? Did they all sound the same? Or, at the other extreme, could you tell almost all of them apart? A rough estimate is fine.\n",
    "\n",
    "By \"tell apart\", we mean the **volume level should be distinct**, not that the music sounds fundamentally different."
   ]
  },
  {
   "cell_type": "markdown",
   "metadata": {},
   "source": [
    "<span style=\"color:blue\">**A:** (TODO - Double click this cell and write your answer) </span>"
   ]
  },
  {
   "cell_type": "markdown",
   "metadata": {
    "deletable": false,
    "editable": false
   },
   "source": [
    "<!-- END QUESTION -->\n",
    "\n",
    "<!-- BEGIN QUESTION -->\n",
    "\n",
    "### Q1c(ii) Phase\n",
    "\n",
    "Now, let's try the phase. We did 11 different amplitude settings, so let's do 11 different phase settings. While the amplitude can be any real number (theoretically, at least — we don't want to blow out our speakers or eardrums!), phase always wraps around every $2\\pi$, so we'll pick 11 uniformly spaced values from this range."
   ]
  },
  {
   "cell_type": "code",
   "execution_count": null,
   "metadata": {
    "deletable": false,
    "editable": false
   },
   "outputs": [],
   "source": [
    "pause = np.zeros(int(fs * 0.5))\n",
    "\n",
    "volume_progression = np.concatenate([np.hstack((pure_tone_gen(\"C\", fs, duration=1.5, amplitude=1, phase=phase), pause))\n",
    "                                     for phase in np.linspace(0, 2 * np.pi, 11)])\n",
    "ipd.Audio(data=volume_progression, rate=fs)"
   ]
  },
  {
   "cell_type": "markdown",
   "metadata": {
    "deletable": false,
    "editable": false
   },
   "source": [
    "#### (Problem 1(c)(ii): Phase)"
   ]
  },
  {
   "cell_type": "markdown",
   "metadata": {
    "deletable": false,
    "editable": false
   },
   "source": [
    "**Q:** How many of the different phase settings could you tell apart? Did they all sound the same? Or, at the other extreme, could you tell almost all of them apart? A rough estimate is fine."
   ]
  },
  {
   "cell_type": "markdown",
   "metadata": {},
   "source": [
    "<span style=\"color:blue\">**A:** (TODO - Double click this cell and write your answer) </span>"
   ]
  },
  {
   "cell_type": "markdown",
   "metadata": {
    "deletable": false,
    "editable": false
   },
   "source": [
    "<!-- END QUESTION -->\n",
    "\n",
    "<!-- BEGIN QUESTION -->\n",
    "\n",
    "### Q1c(iii): Amplitude vs. Phase"
   ]
  },
  {
   "cell_type": "markdown",
   "metadata": {
    "deletable": false,
    "editable": false
   },
   "source": [
    "**Q:** Based on the experiments you just performed, which do you conclude that the human ear is more sensitive to: amplitude, or phase?\n",
    "\n",
    "**Note**: If all settings sounded the same for _both_ amplitude and phase, then try using headphones or an external speaker (or turn up your volume)."
   ]
  },
  {
   "cell_type": "markdown",
   "metadata": {},
   "source": [
    "<span style=\"color:blue\">**A:** (TODO - Double click this cell and write your answer) </span>"
   ]
  },
  {
   "cell_type": "markdown",
   "metadata": {
    "deletable": false,
    "editable": false
   },
   "source": [
    "<!-- END QUESTION -->\n",
    "\n",
    "## (Optional) Q1d: Pushing the Envelope\n",
    "\n",
    "So far, all the music we've made has sounded robotic. In this part, we'll fix that and make our notes sound like they're coming from an actual instrument! \n",
    "\n",
    "The issue is that our model of notes as pure tones is too idealistic — instruments don't produce exact sinusoids at a single frequency with constant amplitude. There are two main differences between our pure tones and how instruments actually work (or at least what most models of them assume):\n",
    "1. **Overtones**. When you play Middle C, you don't just get Middle C. You also get several higher frequencies added in that give instruments a \"richer\" sound than what we've heard so far in this question. These are known as *overtones*. Most instruments are finely tuned so that the only overtones included are the harmonics (integer multiples of the frequency of the note played). So, rather than generating the \"A\" directly below Middle C as a 220 Hz sound, we should also be including the next several harmonics at 440 Hz, 880 Hz, and so on, with the amplitudes dying out as the frequency increases (otherwise, the high-pitched sounds would be unpleasant).\n",
    "2. **Attack and Release Time**. All our notes have been designed to instantly switch between off and on so far: we instantly play the sinusoid at full power as soon as it starts, and then immediately stop it at the end. In actual instruments, there's some delay between the note starting and reaching full volume, known as *attack time*, and then again after it hits a sustained level before the sound completely fades away, called *release time*. The actual times themselves depend on the physical characteristics of the instrument.\n",
    "\n",
    "You probably have an idea how we could handle (1) — just make a \"chord\" from harmonics of a note every time we want to play it by using our `chord_gen` function, feeding in an array of amplitudes that drops off toward zero for the higher harmonics. The number of harmonics to include, and the rate at which to have the amplitudes drop off depend on the specific instrument being simulated. Generally, more harmonics produces a more \"full\" and organ-like sound.\n",
    "\n",
    "Taking care of (2) is a bit more complicated, however. One of the key developments in electronic music was the invention of the **ADSR Envelope**, which accounts for the non-instant rise and fall times of real instruments. The acronym stands for Attack, Decay, Sustain, and Release, and is shown below (image source: [Wikipedia](https://en.wikipedia.org/wiki/Envelope_(music))).\n",
    "\n",
    "<img src=\"figures/ADSR.png\" style=\"width:30em\">\n",
    "\n",
    "After constructing an ADSR envelope, call it $w(n)$, we modulate our music signal $x(n)$ with it to produce the signal $y(n) = w(n)x(n)$, which attenuates the sinusoid as appropriate. Again, picking the specific parameters depends on the instrument you want to mimic. To get a feel for what this looks like, run the cell below."
   ]
  },
  {
   "cell_type": "code",
   "execution_count": null,
   "metadata": {},
   "outputs": [],
   "source": [
    "def adsr_envelope(a_pct, d_pct, s_level, r_pct, n):\n",
    "    # Number of samples for each section\n",
    "    a_samples = int(a_pct * n)\n",
    "    d_samples = int(d_pct * n)\n",
    "    r_samples = int(r_pct * n)\n",
    "    s_samples = n - (a_samples + d_samples + r_samples)\n",
    "    \n",
    "    # Compute each section and combine to form envelope\n",
    "    a = np.linspace(0, 1, a_samples)\n",
    "    d = np.linspace(1, s_level, d_samples)\n",
    "    s = s_level * np.ones(s_samples)\n",
    "    r = np.linspace(s_level, 0, r_samples)\n",
    "    return np.concatenate((a,d,s,r))\n",
    "\n",
    "# 20% attack time, 20% decay time, 35% release time; decay level of .6\n",
    "t = np.linspace(0, 1, 1000)\n",
    "f = 10\n",
    "\n",
    "x = np.sin(2 * np.pi * f * t)\n",
    "w = adsr_envelope(.2, .2, .6, .35, len(x))\n",
    "plt.figure(figsize=(16, 4))\n",
    "plt.subplot(1, 3, 1)\n",
    "plt.plot(t, x)\n",
    "plt.title(\"{} Hz Sinusoid\".format(f))\n",
    "plt.subplot(1, 3, 2)\n",
    "plt.plot(t, w, color=\"orange\")\n",
    "plt.title(\"ADSR Envelope\")\n",
    "plt.subplot(1, 3, 3)\n",
    "plt.plot(t, x * w, color=\"green\")\n",
    "plt.title(\"Modulated Sinusoid\")\n",
    "plt.show()"
   ]
  },
  {
   "cell_type": "markdown",
   "metadata": {},
   "source": [
    "You can also try playing around with an exponential envelope, which only has attack time (rising from zero to a peak) and decay time (dropping off to zero), with no sustain period. Here's what that would look like."
   ]
  },
  {
   "cell_type": "code",
   "execution_count": null,
   "metadata": {},
   "outputs": [],
   "source": [
    "def expo_envelope(a_pct, rate, n):\n",
    "    a_samples = int(a_pct * n)\n",
    "    d_samples = n - a_samples\n",
    "    a = np.linspace(0, 1, a_samples)\n",
    "    d = np.exp(-rate * np.arange(d_samples))\n",
    "    return np.concatenate((a, d))\n",
    "\n",
    "# 20% attack time, 20% decay time, 35% release time; decay level of .6\n",
    "t = np.linspace(0, 1, 44100)\n",
    "f = 10\n",
    "\n",
    "x = np.sin(2 * np.pi * f * t)\n",
    "w = expo_envelope(.05, .0001, len(x))\n",
    "plt.figure(figsize=(16, 4))\n",
    "plt.subplot(1, 3, 1)\n",
    "plt.plot(t, x)\n",
    "plt.title(\"{} Hz Sinusoid\".format(f))\n",
    "plt.subplot(1, 3, 2)\n",
    "plt.plot(t, w, color=\"orange\")\n",
    "plt.title(\"Exponential Envelope\")\n",
    "plt.subplot(1, 3, 3)\n",
    "plt.plot(t, x * w, color=\"green\")\n",
    "plt.title(\"Modulated Sinusoid\")\n",
    "plt.show()"
   ]
  },
  {
   "cell_type": "markdown",
   "metadata": {},
   "source": [
    "Try playing around with different parameters and see if you can make anything interesting. If you find any settings that generate a guitar, piano, or other instrument's sound really well, feel free to post your results on Ed so everyone else can try it out!"
   ]
  },
  {
   "cell_type": "code",
   "execution_count": null,
   "metadata": {},
   "outputs": [],
   "source": [
    "# Optionally, play around here with the adsr_envelope and expo_envelope functions,\n",
    "# plus generating harmonics, to try and make something realistic sounding.\n",
    "\n",
    "# Check out some of the references to see how you might go about doing this."
   ]
  },
  {
   "cell_type": "markdown",
   "metadata": {},
   "source": [
    "# Q2: Convolution\n",
    "\n",
    "In the time domain, LTI systems act by convolving an input with the system's impulse response. This is why LTI systems are so nice from an analysis point of view: they are completely characterized by their impulse responses! With many real world filters and systems being LTI, convolution is naturally an important operation for us, both in exploring applications in labs and understanding theoretical underpinnings in class. Accordingly, we've devoted an entire question to helping you gain familiarity with computing convolutions.\n",
    "\n",
    "First, we'll get a feel for what the \"flip and slide\" definition means visually. Then, with the fundamentals down, we'll move on to how to use library functions to do stuff, abstracting away the specifics of how convolution works.\n",
    "\n",
    "<img src=\"figures/convolution.gif\" style=\"width:30em\">\n",
    "\n",
    "(image source: [Brandon Rohrer](https://e2eml.school/convolution_one_d.html))"
   ]
  },
  {
   "cell_type": "markdown",
   "metadata": {},
   "source": [
    "## Q2a: Walkthrough of How Convolution Works\n",
    "\n",
    "First, we'll run through a demo of how discrete-time convolution works. Just run the cells for this question (no coding required), but make sure you follow along and understand the steps involved."
   ]
  },
  {
   "cell_type": "code",
   "execution_count": null,
   "metadata": {},
   "outputs": [],
   "source": [
    "# For convenience in plotting stuff\n",
    "def x(n):\n",
    "    return (n-2) * np.isin(n, [3,4,5])\n",
    "\n",
    "def h(n):\n",
    "    return 1/2 * np.ones(np.shape(n)) * np.isin(n, [0, 1])"
   ]
  },
  {
   "cell_type": "markdown",
   "metadata": {},
   "source": [
    "Run the cell below to generate and plot the signals\n",
    "\n",
    "$$x(n) = \\delta(n-3) + 2\\delta(n-4) + 3\\delta(n-5), \\ \\ \\ \\ \\ \\ h(n) = \\frac{1}{2}\\delta(n) + \\frac{1}{2}\\delta(n-1)$$\n",
    "\n",
    "where $x$ can be thought of as the input to an DT-LTI system with impulse response $h$."
   ]
  },
  {
   "cell_type": "code",
   "execution_count": null,
   "metadata": {},
   "outputs": [],
   "source": [
    "n = np.arange(0, 9)\n",
    "plt.figure(figsize=(16, 3))\n",
    "plt.subplot(1, 2, 1)\n",
    "plt.stem(n, x(n), linefmt='blue', markerfmt='bo', label='$x(n)$')\n",
    "plt.legend()\n",
    "plt.xlabel(\"n\")\n",
    "plt.subplot(1, 2, 2)\n",
    "plt.stem(n, h(n), linefmt='green', markerfmt='go', label='$h(n)$')\n",
    "plt.legend()\n",
    "plt.xlabel(\"n\")\n",
    "plt.show()"
   ]
  },
  {
   "cell_type": "markdown",
   "metadata": {},
   "source": [
    "We want to compute $y = x * h$. This is formally defined through the infamously intimidating *convolution sum*\n",
    "\n",
    "$$y(n) = \\sum_{k=-\\infty}^{\\infty} x(k)h(n-k)$$\n",
    "\n",
    "which isn't as scary as it seems. Let's walk through it one step at a time."
   ]
  },
  {
   "cell_type": "markdown",
   "metadata": {},
   "source": [
    "### Breaking Down the Definition\n",
    "\n",
    "The easiest case to understand is when $n=0$, where we have\n",
    "\n",
    "$$y(0) = \\sum_{k=-\\infty}^{\\infty} x(k) h(-k)$$\n",
    "\n",
    "which says that the output at time zero is the dot product of $x$ with a flipped version of $h$. Let's plot $x(k)$ with $h(-k)$ lined up below it."
   ]
  },
  {
   "cell_type": "code",
   "execution_count": null,
   "metadata": {},
   "outputs": [],
   "source": [
    "k = np.arange(-8, 9)\n",
    "plt.figure(figsize=(16, 6))\n",
    "plt.subplot(2, 1, 1)\n",
    "plt.stem(k, x(k), linefmt='blue', markerfmt='bo', label='$x(k)$')\n",
    "plt.xticks(k)\n",
    "plt.xlabel(\"k\")\n",
    "plt.legend()\n",
    "plt.subplot(2, 1, 2)\n",
    "plt.stem(k, h(-k), linefmt='green', markerfmt='go', label='$h(-k)$')\n",
    "plt.xticks(k)\n",
    "plt.xlabel(\"k\")\n",
    "plt.legend()\n",
    "plt.show()"
   ]
  },
  {
   "cell_type": "markdown",
   "metadata": {},
   "source": [
    "Do you see how we left $x$ untouched, but flipped $h$? Now, to compute $y(0)$, we take the dot product of these two signals. Since they don't overlap at all as shown in the plot, we get zero as the output of the dot product, and $y(0) = 0$.\n",
    "\n",
    "From here, we still need to compute the negative indexed entries $y(-1), y(-2), y(-3), ...$ and the positive indexed entries $y(1), y(2), y(3)$, etc. We've already flipped, so the question is: how do we slide? Let's look at the case of $y(-1)$:\n",
    "\n",
    "$$y(-1) = \\sum_{k=-\\infty}^{\\infty} x(k) h(-1 - k)$$\n",
    "\n",
    "Again, we see that we take a dot product with $x$, but instead of with $h(-k)$, it's with $h(-1-k)$. Is this a shift to the left by one, or to the right by one? Well, we could cheat a bit and just plug into the code and see what happens..."
   ]
  },
  {
   "cell_type": "code",
   "execution_count": null,
   "metadata": {},
   "outputs": [],
   "source": [
    "k = np.arange(-8, 9)\n",
    "plt.figure(figsize=(16, 6))\n",
    "plt.subplot(2, 1, 1)\n",
    "plt.stem(k, x(k), linefmt='blue', markerfmt='bo', label='$x(k)$')\n",
    "plt.xticks(k)\n",
    "plt.xlabel(\"k\")\n",
    "plt.legend()\n",
    "plt.subplot(2, 1, 2)\n",
    "plt.stem(k, h(-1-k), linefmt='green', markerfmt='go', label='$h(-1-k)$') # Note the \"h(-1-k)\" in the second argument\n",
    "plt.xticks(k)\n",
    "plt.xlabel(\"k\")\n",
    "plt.legend()\n",
    "plt.show()"
   ]
  },
  {
   "cell_type": "markdown",
   "metadata": {},
   "source": [
    "It's a shift *left* by one! Why is this? To figure it out, let's define\n",
    "\n",
    "$$\\hat{h}(k) = h(-k)$$\n",
    "\n",
    "which is the flipped signal from before. If we shift this signal to the left by one, considering $\\hat{h}(k+1)$, then we get\n",
    "\n",
    "$$\\hat{h}(k+1) = h(-(k+1)) = h(-k - 1) = h(-1 - k)$$\n",
    "\n",
    "since $\\hat{h}$ simply negates its entire argument. So shifting the flipped signal left by one does indeed give us $h(-1-k)$. To compute $y(-1)$, we want the dot product of the two signals above, which again is clearly zero since they don't overlap. So $y(-1) = y(0) =0$.\n",
    "\n",
    "What about $h(-2-k)$? Let's see."
   ]
  },
  {
   "cell_type": "code",
   "execution_count": null,
   "metadata": {},
   "outputs": [],
   "source": [
    "plt.figure(figsize=(16, 6))\n",
    "plt.subplot(2, 1, 1)\n",
    "plt.stem(k, x(k), linefmt='blue', markerfmt='bo', label='$x(k)$')\n",
    "plt.xticks(k)\n",
    "plt.xlabel(\"k\")\n",
    "plt.legend()\n",
    "plt.subplot(2, 1, 2)\n",
    "plt.stem(k, h(-2-k), linefmt='green', markerfmt='go', label='$h(-2-k)$') # Note the \"h(-2-k)\" in the second argument\n",
    "plt.xticks(k)\n",
    "plt.xlabel(\"k\")\n",
    "plt.legend()\n",
    "plt.show()"
   ]
  },
  {
   "cell_type": "markdown",
   "metadata": {},
   "source": [
    "Now, we've shifted left again, for a net shift of two time steps left from the original reveresed signal $h(-k)$. Again, there's no overlap, so the dot product is zero, and $y(-2) = 0$. Using the definition\n",
    "\n",
    "$$\\hat{h}(k) = h(-k)$$\n",
    "\n",
    "again, note that \n",
    "\n",
    "$$\\hat{h}(k + 2) = h(-(k+2)) = h(-2 - k)$$\n",
    "\n",
    "which matches what we see above: shifting the flipped signal left by two corresponds to $h(-2-k)$. As we continue to find $h(-3-k), h(-4-k)$, and so on, which are dotted with $x(k)$ to compute $y(-3), y(-4)$, etc., we see that the signals move further and further apart, with $h$ moving more and more to the left! So, as $n \\xrightarrow{} -\\infty$, $y(n)$ will always be zero. "
   ]
  },
  {
   "cell_type": "markdown",
   "metadata": {},
   "source": [
    "So far, we've found that\n",
    "\n",
    "$$y(0) = y(-1) = y(-2) = y(-3) = ... = 0$$\n",
    "\n",
    "but we still need to find $y(1), y(2)$, and so on. Recall that \n",
    "\n",
    "$$y(1) = \\sum_{k=-\\infty}^{\\infty} x(k) h(1 - k)$$\n",
    "\n",
    "so we need to dot $x(k)$ with $h(1-k)$ to get the convolution output here. Just as $h(-1-k)$ corresponded to shifting the flipped signal *left* one, $h(1-k)$ shifts it *right* one:"
   ]
  },
  {
   "cell_type": "code",
   "execution_count": null,
   "metadata": {},
   "outputs": [],
   "source": [
    "plt.figure(figsize=(16, 6))\n",
    "plt.subplot(2, 1, 1)\n",
    "plt.stem(k, x(k), linefmt='blue', markerfmt='bo', label='$x(k)$')\n",
    "plt.xticks(k)\n",
    "plt.xlabel(\"k\")\n",
    "plt.legend()\n",
    "plt.subplot(2, 1, 2)\n",
    "plt.stem(k, h(1-k), linefmt='green', markerfmt='go', label='$h(1-k)$') # Note the \"h(1-k)\" in the second argument\n",
    "plt.xticks(k)\n",
    "plt.xlabel(\"k\")\n",
    "plt.legend()\n",
    "plt.show()"
   ]
  },
  {
   "cell_type": "markdown",
   "metadata": {},
   "source": [
    "Still, no overlap, so we get $y(1) = 0$. We're getting closer though! What about $y(2)$, which is the dot product of $x$ with $h(2-k)$?"
   ]
  },
  {
   "cell_type": "code",
   "execution_count": null,
   "metadata": {},
   "outputs": [],
   "source": [
    "plt.figure(figsize=(16, 6))\n",
    "plt.subplot(2, 1, 1)\n",
    "plt.stem(k, x(k), linefmt='blue', markerfmt='bo', label='$x(k)$')\n",
    "plt.xticks(k)\n",
    "plt.xlabel(\"k\")\n",
    "plt.legend()\n",
    "plt.subplot(2, 1, 2)\n",
    "plt.stem(k, h(2-k), linefmt='green', markerfmt='go', label='$h(2-k)$') # Note the \"h(2-k)\" in the second argument\n",
    "plt.xticks(k)\n",
    "plt.xlabel(\"k\")\n",
    "plt.legend()\n",
    "plt.show()"
   ]
  },
  {
   "cell_type": "markdown",
   "metadata": {},
   "source": [
    "Again, no overlap (so $y(2) = 0$) but one more shift will do it! For $y(3)$, we consider $h(3-k)$, which is a shift right by 3 from the original $h(-k)$ (you can verify this using the \"hat trick\" mentioned above): "
   ]
  },
  {
   "cell_type": "code",
   "execution_count": null,
   "metadata": {},
   "outputs": [],
   "source": [
    "plt.figure(figsize=(16, 6))\n",
    "plt.subplot(2, 1, 1)\n",
    "plt.stem(k, x(k), linefmt='blue', markerfmt='bo', label='$x(k)$')\n",
    "plt.xticks(k)\n",
    "plt.xlabel(\"k\")\n",
    "plt.legend()\n",
    "plt.subplot(2, 1, 2)\n",
    "plt.stem(k, h(3-k), linefmt='green', markerfmt='go', label='$h(3-k)$') # Note the \"h(3-k)\" in the second argument\n",
    "plt.xticks(k)\n",
    "plt.xlabel(\"k\")\n",
    "plt.legend()\n",
    "plt.show()"
   ]
  },
  {
   "cell_type": "markdown",
   "metadata": {},
   "source": [
    "We finally have some overlap! At $k=3$, the flipped and shifted $h$ has value $.5$, and $x$ has value $1$. Thus, the dot product is $.5$, and we have:\n",
    "\n",
    "$$y(3) = \\sum_{k=-\\infty}^{\\infty} x(k)h(3-k) = \\frac{1}{2}$$\n",
    "\n",
    "Let's do the next few now! Let's plot $h(4-k), h(5-k), h(6-k)$, corresponding to the computation of $y(4), y(5), y(6)$, and $x(k)$ all together at once."
   ]
  },
  {
   "cell_type": "code",
   "execution_count": null,
   "metadata": {},
   "outputs": [],
   "source": [
    "plt.figure(figsize=(16, 10))\n",
    "plt.subplot(4, 1, 1)\n",
    "plt.stem(k, x(k), linefmt='blue', markerfmt='bo', label='$x(k)$')\n",
    "plt.xticks(k)\n",
    "plt.xlabel(\"k\")\n",
    "plt.legend()\n",
    "plt.subplot(4, 1, 2)\n",
    "plt.stem(k, h(4-k), linefmt='green', markerfmt='go', label='$h(4-k)$')\n",
    "plt.xticks(k)\n",
    "plt.xlabel(\"k\")\n",
    "plt.legend()\n",
    "plt.subplot(4, 1, 3)\n",
    "plt.stem(k, h(5-k), linefmt='green', markerfmt='go', label='$h(5-k)$')\n",
    "plt.xticks(k)\n",
    "plt.xlabel(\"k\")\n",
    "plt.legend()\n",
    "plt.subplot(4, 1, 4)\n",
    "plt.stem(k, h(6-k), linefmt='green', markerfmt='go', label='$h(6-k)$')\n",
    "plt.xticks(k)\n",
    "plt.xlabel(\"k\")\n",
    "plt.legend()\n",
    "plt.show()"
   ]
  },
  {
   "cell_type": "markdown",
   "metadata": {},
   "source": [
    "Taking the dot products, we can see that:\n",
    "\n",
    "$$y(4) = \\tfrac{1}{2} \\cdot 1 + \\tfrac{1}{2} \\cdot 2 = \\tfrac{3}{2}$$\n",
    "$$y(5) = \\tfrac{1}{2} \\cdot 2 + \\tfrac{1}{2} \\cdot 3 = \\tfrac{5}{2}$$\n",
    "$$y(6) = \\tfrac{1}{2} \\cdot 3 + \\tfrac{1}{2} \\cdot 0 = \\tfrac{3}{2}$$\n",
    "\n",
    "As we continue to shift further to the right, there is never again overlap, so all dot products are zero! Collecting all our results together, we have that:\n",
    "\n",
    "$$y(n) = \\frac{1}{2}\\delta(n-3) + \\frac{3}{2}\\delta(n-4) + \\frac{5}{2}\\delta(n-5) + \\frac{3}{2}\\delta(n-6)$$\n",
    "\n",
    "which we'll plot below."
   ]
  },
  {
   "cell_type": "code",
   "execution_count": null,
   "metadata": {},
   "outputs": [],
   "source": [
    "n = np.arange(0, 9)\n",
    "y = np.array([0,0,0,1/2,3/2,5/2,3/2,0,0])\n",
    "plt.figure(figsize=(16, 4))\n",
    "plt.stem(n, y, label='$y(n)$')\n",
    "plt.xticks(n)\n",
    "plt.xlabel(\"n\")\n",
    "plt.legend()\n",
    "plt.show()"
   ]
  },
  {
   "cell_type": "markdown",
   "metadata": {},
   "source": [
    "On a more intuitive level, note that $h$ consisted of two adjacent lollipops, both of height $\\frac{1}{2}$. We convolved it with a signal that went from 0 to 1 to 2 to 3 then back down to zero. In the output, we see that this filter had the effect of performing a *two-point moving average*: we get 1/2 (the average of 0 and 1), then 3/2 (the average of 1 and 2), 5/2 (the average of 2 and 3), then 3/2 (the average of 3 and 0) before the output is all zeros again, which are obtained by averaging the signal $x$'s zeros. \n",
    "\n",
    "This is the essence of discrete convolution: hold one signal fixed, flip the other and slide it over the fixed signal while taking successive dot products to produce the output. The signal we flip and slide acts as a template which we can design to produce a desired effect. Here, we got a two-point moving average, which served to smooth out the signal. In the next lab, you'll see some other filters and what effects they have on different signals."
   ]
  },
  {
   "cell_type": "markdown",
   "metadata": {},
   "source": [
    "## Q2b: Convolution with NumPy\n",
    "\n",
    "Now, you should have some intuition for how convolution works on a conceptual level. Fortunately, in NumPy, all the hard work is handled for you.\n",
    "\n",
    "NumPy's convolution routine is [np.convolve](https://docs.scipy.org/doc/numpy/reference/generated/numpy.convolve.html), which takes in\n",
    "- `x`, a numpy array representing the signal $x$;\n",
    "- `h`, a numpy array representing the signal $h$; and\n",
    "- `mode`, a string specifying how to truncate the convolution, if at all\n",
    "\n",
    "and returns $y = x * h$. \n",
    "\n",
    "The parameter `mode` can be used to cut out parts of the convolution output. In practice, signals are typically zero-padded with extra room, so it's okay to cut out some points without much (or any, if you pad enough zeros) loss of information.\n",
    "\n",
    "It takes some time to get acquainted with the `mode` parameter, but it's well worth the effort. It expects one of three options: `full`, `same`, and `valid`. We'll walk through some examples that illustrate the differences."
   ]
  },
  {
   "cell_type": "markdown",
   "metadata": {},
   "source": [
    "### `mode = \"full\"`\n",
    "\n",
    "NumPy computes the entire convolution, and nothing is cut out.. This mode is exactly what you've seen so far in class.\n",
    "\n",
    "**Use case:** You don't want to crop anything."
   ]
  },
  {
   "cell_type": "code",
   "execution_count": null,
   "metadata": {},
   "outputs": [],
   "source": [
    "np.convolve([1/2, 1/2], [1, 1, 1], 'full')"
   ]
  },
  {
   "cell_type": "code",
   "execution_count": null,
   "metadata": {},
   "outputs": [],
   "source": [
    "np.convolve([1, 2, 3], [0, 1, 0.5], 'full')"
   ]
  },
  {
   "cell_type": "markdown",
   "metadata": {},
   "source": [
    "### `mode = \"same\"`\n",
    "\n",
    "NumPy only keeps the \"middle\" part of the result. It chops off data points from each end of the output array until the result has the **same** length as the longer of the two inputs. \n",
    "\n",
    "**Use case:** There are many; this mode is perhaps the most popular in practice. The two main uses are:\n",
    "\n",
    "1. For code readability, you're sticking to a convention of keeping all signals the same length through zero-padding, and you want the convolution output to also have this length.\n",
    "2. To save memory, you write the convolution *output* array back into one of the input arrays. This technique is common in signal processing implementations done on embedded systems and the RaspberryPi platform where memory is limited."
   ]
  },
  {
   "cell_type": "code",
   "execution_count": null,
   "metadata": {},
   "outputs": [],
   "source": [
    "np.convolve([1/2, 1/2], [1, 1, 1], 'same') # cropped to be of length 3; cuts out a point on the right"
   ]
  },
  {
   "cell_type": "code",
   "execution_count": null,
   "metadata": {},
   "outputs": [],
   "source": [
    "np.convolve([1, 2, 3], [0, 1, 0.5], 'same') # cropped to be of length 3; cuts out a point on each side"
   ]
  },
  {
   "cell_type": "markdown",
   "metadata": {},
   "source": [
    "Note how in both cases, some of our data was cut out! When you use `same`, you have to take care to ensure no data will be cut out in the result by zero-padding both sides of one of the signals. If, for the first convolution, we instead computed"
   ]
  },
  {
   "cell_type": "code",
   "execution_count": null,
   "metadata": {},
   "outputs": [],
   "source": [
    "np.convolve([0, 1/2, 1/2, 0], [1, 1, 1], 'same')"
   ]
  },
  {
   "cell_type": "markdown",
   "metadata": {},
   "source": [
    "then all of our data is intact."
   ]
  },
  {
   "cell_type": "markdown",
   "metadata": {},
   "source": [
    "### `mode = \"valid\"`\n",
    "\n",
    "NumPy only keeps the part of the convolution where your signals fully overlap. This is better explained through the visual below than words.\n",
    "\n",
    "**Use case:** Removing \"fake\" values at the boundaries of your output. \n",
    "\n",
    "For example, suppose we applied a two-point moving average filter (through convolution with `[1/2, 1/2]`) to a stock signal $x$, represented in an array as `[x[0], ..., x[N-1]]`. The first value in the output of the (`full`) convolution will be an average of `x[0]` and zero, since the filter only overlaps with the signal at one point. This average isn't meaningful, since we're including a zero (which isn't part of the stock data), so we just remove it with `valid`. This first output point, where some fake zeros were implicitly added in, is what we mean by \"fake\" values."
   ]
  },
  {
   "cell_type": "code",
   "execution_count": null,
   "metadata": {},
   "outputs": [],
   "source": [
    "np.convolve([1/2, 1/2], [1, 1, 1], 'valid')"
   ]
  },
  {
   "cell_type": "code",
   "execution_count": null,
   "metadata": {},
   "outputs": [],
   "source": [
    "np.convolve([1, 2, 3], [0, 1, 0.5], 'valid')"
   ]
  },
  {
   "cell_type": "markdown",
   "metadata": {},
   "source": [
    "For the second cell, since the signals have the same length, they only full overlap at one point in time, and we get only one value in our output."
   ]
  },
  {
   "cell_type": "markdown",
   "metadata": {},
   "source": [
    "### Some Visual Intuition\n",
    "\n",
    "Below is a diagram showing you which parts of the convolution we worked through in Q2a each mode would keep. In case the examples above were unclear, we hope this clarifies things. You don't need to be able to perfectly predict what points will and won't be cut out by each mode; it's just good to know the different between \"full\" and \"valid\" since there are plenty of times in practice when you want \"valid\" but end up wasting time re-implementing it because you forget it exists."
   ]
  },
  {
   "cell_type": "markdown",
   "metadata": {},
   "source": [
    "<img src=\"figures/conv_modes_annotated.png\" width=1000em />"
   ]
  },
  {
   "cell_type": "markdown",
   "metadata": {},
   "source": [
    "### Final Comments on `mode` \n",
    "\n",
    "For the labs, we'll typically tell you what convolution mode to use to avoid any confusion. The greatest thing about the Jupyter Notebook is its interactive nature. If you're ever unsure of what parts of the output a convolution mode would chop off, just create a new cell and try it out!"
   ]
  },
  {
   "cell_type": "markdown",
   "metadata": {},
   "source": [
    "### Your Job\n",
    "\n",
    "Now that you've seen the basics of how `np.convolve` works, it's time to try it out on your own. Don't worry about defining or tracking any time indices at all (or doing any zero padding) for this question - just generate the signals and convolve as specified by the instructions.\n",
    "\n",
    "**Make sure you use `plt.stem` for all plots in this question, so the results are displayed as DT signals.** No need to do anything fancy with your plots either (e.g. labelling axes, etc.) beyond what you're asked for - just passing the signal straight into `plt.stem` and adding whatever title the question specifies is fine."
   ]
  },
  {
   "cell_type": "markdown",
   "metadata": {
    "deletable": false,
    "editable": false
   },
   "source": [
    "<!-- BEGIN QUESTION -->\n",
    "\n",
    "## Q2b(i): Get Rect\n",
    "\n",
    "The length $L$ rectangular signal (sometimes also called the \"rect\" for short, or, alternatively, the \"boxcar\" signal) is defined as\n",
    "\n",
    "$$r(n) = \\begin{cases}1 & n = 0, 1, 2, ..., L - 1 \\\\ 0 & \\text{otherwise}\\end{cases}$$\n",
    "\n",
    "\n",
    "Some alternate definitions of the rect will normalize it (so that each nonzero point of the signal has height $1/L$), and some will center it around zero (although this can only be done when $L$ is odd, so that there is a center point and an equal number of nonzero signal points on each side of $n = 0$).\n",
    "\n",
    "Generate three plots\n",
    "1. Convolve a length 3 rect with a length 3 rect and plot it. Use \"full\" mode. Title it \"Convolution of two length 3 rects\".\n",
    "\n",
    "2. Convolve a length 10 rect with a length 10 rect and plot it, again in \"full\" mode. Title it \"Convolution of two length 10 rects\".\n",
    "\n",
    "3. Convolve a length 50 rect with a length 50 rect and plot it, again in \"full\" mode. Title it \"Convolution of two length 50 rects\"."
   ]
  },
  {
   "cell_type": "code",
   "execution_count": null,
   "metadata": {
    "tags": []
   },
   "outputs": [],
   "source": [
    "..."
   ]
  },
  {
   "cell_type": "markdown",
   "metadata": {
    "deletable": false,
    "editable": false
   },
   "source": [
    "**Q:** In general, what shape is the convolution of two rects *of the same length*? A one-word answer is fine."
   ]
  },
  {
   "cell_type": "markdown",
   "metadata": {},
   "source": [
    "<span style=\"color:blue\">**A:** (TODO - Double click this cell and write your answer) </span>"
   ]
  },
  {
   "cell_type": "markdown",
   "metadata": {
    "deletable": false,
    "editable": false
   },
   "source": [
    "<!-- END QUESTION -->\n",
    "\n",
    "<!-- BEGIN QUESTION -->\n",
    "\n",
    "## Q2b(ii): Get Rect Again\n",
    "\n",
    "Now, we'll convolve rects that have *different* lengths and see what happens.\n",
    "\n",
    "Create the following plots:\n",
    "1. Convolve a length 2 rect with a length 5 rect.\n",
    "2. Convolve a length 10 and length 20 rect.\n",
    "3. Convolve a length 60 and length 20 rect.\n",
    "\n",
    "**For this part, perform all convolutions in \"full\" mode, so you don't have to worry about signal values being cut out and can focus on the results.** As a consequence, it's perfectly fine to not zero-pad any of your signals pre-convolution. Remember, \"full\" mode doesn't cut anything out. For example, if you were asked to convolve a length 2 rect with a length 4 rect, it's fine to use `np.array([1, 1])` and `np.array([1, 1, 1, 1])`, respectively, as the NumPy array representations of your signals.\n",
    "\n",
    "**For all parts of this question, plot the convolution result, and give your plot a reasonable title.**"
   ]
  },
  {
   "cell_type": "code",
   "execution_count": null,
   "metadata": {
    "tags": []
   },
   "outputs": [],
   "source": [
    "..."
   ]
  },
  {
   "cell_type": "markdown",
   "metadata": {
    "deletable": false,
    "editable": false
   },
   "source": [
    "**Q:** In general, the convolution of two rects of different lengths is a trapezoid, which you should see from your plots. We'll define the *length* of the trapezoid's \"top\" as the number of points for which it attains its maximum value. For example, the length of a triangle's top is 1, since it peaks at one data point and slopes downward on either side of the peak. \n",
    "\n",
    "Which trapezoid would you expect to have a longer top: one obtained by convolving a length 10 rect and length 20 rect, or one obtained by convolving a length 15 rect and length 20 rect? Briefly explain why. "
   ]
  },
  {
   "cell_type": "markdown",
   "metadata": {},
   "source": [
    "<span style=\"color:blue\">**A:** (TODO - Double click this cell and write your answer) </span>"
   ]
  },
  {
   "cell_type": "markdown",
   "metadata": {
    "deletable": false,
    "editable": false
   },
   "source": [
    "<!-- END QUESTION -->\n",
    "\n",
    "## Q2b(iii): Get Rect, The Grand Finale\n",
    "\n",
    "We saw in Q2b(i) what happens when we convolve two rects that have the same length together. But what if we convolve 3 togther (by convolving two, then convolving the result with a third)? What about 4? 5? 10? 100? The result might surprise you. \n",
    "\n",
    "In doing so, to make sure the convolution results don't blow up to infinity, we'll normalize our rects to sum to 1. An interesting fact that you'll prove later in the semester is that if you convolve two signals that both sum to 1, the result also sums to 1. We'll use length two rects here, although you'll get a similar result if you use a larger size.\n",
    "\n",
    "You don't have to write any code for this question; just run the cells."
   ]
  },
  {
   "cell_type": "markdown",
   "metadata": {},
   "source": [
    "Let's see what happens when we convolve 2, 3, and 4 rects together."
   ]
  },
  {
   "cell_type": "code",
   "execution_count": null,
   "metadata": {},
   "outputs": [],
   "source": [
    "rect = np.array([1/2, 1/2])\n",
    "\n",
    "plt.figure(figsize=(20, 4))\n",
    "plt.subplot(1, 4, 1)\n",
    "x = np.convolve(rect, rect, \"full\")\n",
    "plt.stem(x)\n",
    "plt.title(\"Convolution of 2 length two rects\")\n",
    "\n",
    "plt.subplot(1, 4, 2)\n",
    "x = np.convolve(x, rect, \"full\")\n",
    "plt.stem(x)\n",
    "plt.title(\"Convolution of 3 length two rects\")\n",
    "\n",
    "plt.subplot(1, 4, 3)\n",
    "x = np.convolve(x, rect, \"full\")\n",
    "plt.stem(x)\n",
    "plt.title(\"Convolution of 4 length two rects\")\n",
    "\n",
    "plt.subplot(1, 4, 4)\n",
    "x = np.convolve(x, rect, \"full\")\n",
    "plt.stem(x)\n",
    "plt.title(\"Convolution of 5 length two rects\")\n",
    "plt.show()"
   ]
  },
  {
   "cell_type": "markdown",
   "metadata": {},
   "source": [
    "We can see the convolution output stretching more as we go from left to right. The results still look a bit trapezoidal, but do get successively smoother. What if we keep doing this indefinitely, stretching and smoothing the rectangles out more and more? Let's find out! Run the cell below to convolve 100 rects together, displaying the result after each convolution. "
   ]
  },
  {
   "cell_type": "code",
   "execution_count": null,
   "metadata": {},
   "outputs": [],
   "source": [
    "from IPython import display\n",
    "\n",
    "numconv = 100 # change this to the number of convolutions you want to do\n",
    "rect = np.array([1/2, 1/2])\n",
    "y = np.convolve(rect, rect, \"full\")\n",
    "for i in range(1, numconv+1):\n",
    "    y = np.convolve(y, rect, \"full\")\n",
    "    plt.clf()\n",
    "    plt.stem(y)\n",
    "    plt.title(\"Convolution of {} Length Two Rects\".format(i))\n",
    "    display.clear_output(wait=True)\n",
    "    display.display(plt.gcf())"
   ]
  },
  {
   "cell_type": "markdown",
   "metadata": {},
   "source": [
    "As we continue to convolve more and more rects together, we end up with a bell curve. Formally, this shape is known as the [Gaussian function](https://en.wikipedia.org/wiki/Gaussian_function). \n",
    "\n",
    "By applying a *Gaussian filter* — one with a Gaussian function as its impulse response — we are implicitly applying a large number of rectangular filters. A rectangular impulse response to corresponds to a simple moving average filter (provided it is normalized so the filter coefficients sum to 1), since it locally averages points through successive dot products. Thus, the Gaussian filter can be thought of as applying a large number of moving averages, since we keep convolving rects together. This is actually a consequence of the celebrated [Central Limit Theorem](https://en.wikipedia.org/wiki/Central_limit_theorem) from probability theory.\n",
    "\n",
    "The Gaussian filter shows up in a wide variety of signal and image processing contexts for smoothing and low-pass filtering. In fact, the default method used for blurring images is to perform a (2D) convolution with a Gaussian filter, known as a [Gaussian blur](https://en.wikipedia.org/wiki/Gaussian_blur), which you'll implement in a later lab. Just about every image editing program from Adobe Photoshop to open source variants like GIMP have this feature. Now, we have a theoretical justification for using a Gaussian filter to smooth signals: it is equivalent to applying a large number of moving average filters."
   ]
  },
  {
   "cell_type": "markdown",
   "metadata": {},
   "source": [
    "# Q3: Fast Convolution\n",
    "\n",
    "After making it through this lab, you might be wondering why you should bother with NumPy at all. You may be asking yourself, \"Why can't we just use regular Python lists and the Python math libraries to do everything? They're so much simpler than dealing with NumPy.\"\n",
    "\n",
    "The answer is that NumPy blows vanilla Python out of the water at scientific computing whenever speed is a factor, which it often is (who wants to wait forever for their code to run?). NumPy is your best friend for implementing complex simulations or handling large volumes of data. Anytime you find yourself writing a list comprehension or using loops to do some form of computation, build a habit of converting the code from pure Python to NumPy. It will make everything *much* faster, as you'll see here. NumPy is especially optimized for matrix and vector operations, which are ubiquitous in signal processing algorithms.\n",
    "\n",
    "All LTI systems — which show up a lot in practical signal processing, and are a lead actor in our course — convolve an input with their impulse response to produce an output in the time domain. This makes it a great case study for us to try and optimize using NumPy. Below, we've provided **working code** to perform a \"full\" mode convolution of two signals without using *any* NumPy functionality. It works by reversing one of the signals and doing a series of sliding dot products, just as you've learned. "
   ]
  },
  {
   "cell_type": "code",
   "execution_count": null,
   "metadata": {},
   "outputs": [],
   "source": [
    "\"\"\"DO NOT EDIT THIS CELL OR YOU WILL RECEIVE ZERO POINTS ON THIS QUESTION\"\"\"\n",
    "def numpyless_conv(x, y):  \n",
    "    # Create output array\n",
    "    N = len(x) + len(y) - 1 # Convolving a duration D signal and a duration K signal gives a duration D+K-1 signal\n",
    "    out = [0 for i in range(N)]\n",
    "    \n",
    "    # Pad for ease of implementation\n",
    "    y_rev = y[::-1]\n",
    "    zeros_x = [0 for i in range(N - len(x))]\n",
    "    zeros_y = [0 for i in range(N - len(y))]\n",
    "    x_pad = zeros_x + list(x)\n",
    "    y_rev_pad = list(y_rev) + zeros_y\n",
    "    for n in range(N):\n",
    "        # This loop computes the dot product\n",
    "        for i in range(N):\n",
    "            out[n] += x_pad[i] * y_rev_pad[i]\n",
    "        y_rev_pad = [y_rev_pad[i] for i in range(-1, N-1)] # Circularly shift everything one to the right\n",
    "    return out"
   ]
  },
  {
   "cell_type": "markdown",
   "metadata": {},
   "source": [
    "Your job in this question is simple: implement the function `numpy_conv` in the next cell to perform a \"full\" mode convolution of the signals `x` and `y`, which will be passed in as numpy arrays. Because we've already given you working code, there are a two requirements:\n",
    "1. Your function must pass all provided test cases below to ensure it's outputting the correct results. Unless this is true, you will automatically get zero points on this question since we've given you working code that passes them.\n",
    "2. Your function must be at least 10x faster than `numpyless_conv` for credit.\n",
    "\n",
    "This question is all or nothing; your solution must satisfy both requirements for credit. For reference, the staff solution is ~20-40x faster (depending on what laptop it's run on) and only makes basic modifications to `numpyless_conv`.\n",
    "\n",
    "**You may not use any NumPy or SciPy functions that automatically perform Fourier Transforms, correlations, or convolutions, as they defeat the entire purpose of this exercise.** However, everything else in NumPy and SciPy is fair game. For example, you're welcome to use `np.dot`, the numpy function that performs dot products and matrix-vector multiplications. If you're unsure about whether or not a function is allowed, just ask on Ed.\n",
    "\n",
    "**Hint:** NumPy is highly optimized for matrix and vector operations. Think about how you could implement convolution in terms of these. You're welcome to start by copying the `numpyless_conv` code and modifying whatever you see fit."
   ]
  },
  {
   "cell_type": "markdown",
   "metadata": {},
   "source": [
    "_Type your answer here, replacing this text._"
   ]
  },
  {
   "cell_type": "code",
   "execution_count": null,
   "metadata": {
    "tags": []
   },
   "outputs": [],
   "source": [
    "def numpy_conv(x, y):\n",
    "    ..."
   ]
  },
  {
   "cell_type": "markdown",
   "metadata": {
    "deletable": false,
    "editable": false
   },
   "source": [
    "Run the cell below to test your function out. For credit, the output should show at least a 10x speedup.\n",
    "\n",
    "In case you're curious, the speedup tests compare the average time taken, over 10 trials, by each function to compute the convolution of two randomly-generated (i.e., dense) length 500 signals."
   ]
  },
  {
   "cell_type": "code",
   "execution_count": null,
   "metadata": {
    "deletable": false,
    "editable": false
   },
   "outputs": [],
   "source": [
    "lab1_helper.get_speedup(numpy_conv, numpyless_conv)"
   ]
  },
  {
   "cell_type": "code",
   "execution_count": null,
   "metadata": {
    "tags": []
   },
   "outputs": [],
   "source": []
  },
  {
   "cell_type": "code",
   "execution_count": null,
   "metadata": {
    "deletable": false,
    "editable": false
   },
   "outputs": [],
   "source": [
    "grader.check(\"q3\")"
   ]
  },
  {
   "cell_type": "markdown",
   "metadata": {},
   "source": [
    "### How good does it get?\n",
    "\n",
    "The `numpyless_conv` function is a vanilla Python implementation of convolution. It's very slow because it fails to leverage the awesome power of NumPy and SciPy. \n",
    "\n",
    "At the other end of the spectrum, we have `np.convolve`, numpy's state-of-the-art version. It's a great exercise to write your own convolution function, which is why we made you do it here. However, you should always use library implementations when they exist, since they have already been debugged and optimized for efficiency. \n",
    "\n",
    "As a final experiment in your first EE 120 lab, let's see how much better NumPy's built-in function is than the non-numpy version you were given."
   ]
  },
  {
   "cell_type": "code",
   "execution_count": null,
   "metadata": {},
   "outputs": [],
   "source": [
    "lab1_helper.get_speedup(np.convolve, numpyless_conv) # This will take a few seconds to run"
   ]
  },
  {
   "cell_type": "markdown",
   "metadata": {},
   "source": [
    "The results are unequivocal: NumPy is the winner! We hope you're convinced that learning the ins and outs of NumPy, SciPy and Matplotlib through the labs this semester will add a valuable tool to your skillset."
   ]
  },
  {
   "cell_type": "markdown",
   "metadata": {},
   "source": [
    "# References\n",
    "[1] The official Python 3 language documentation. [Link](https://docs.python.org/3/)  \n",
    "[2] The official numpy and scipy documentation. [Link](https://docs.scipy.org/doc/)  \n",
    "[3] The official matplotlib documentation. [Link](https://matplotlib.org/contents.html)  \n",
    "[4] *Computer Music in Undergraduate Digital Signal Processing*. [Link](http://www.ece.nmsu.edu/~pdeleon/Research/Publications/ASEE_GSW_2000.pdf)  \n",
    "[5] *Hammer nonlinearity, dynamics and the piano sound*. [Link](https://www.acs.psu.edu/drussell/Piano/Dynamics.html)  \n",
    "[6] *ADSR_parameter.svg (Wikipedia)*. [Link](https://commons.wikimedia.org/wiki/File:ADSR_parameter.svg)  \n",
    "[7] *convolution.gif (Brandon Rohrer)*. [Link](https://e2eml.school/images/conv1d/bb_copy.gif)\n",
    "\n",
    "## Other Sources\n",
    "- Question 1 was adapted from a question from Lab 1 of the Fall 2011 offering of Princeton University's Signals and Systems course, ELE 301, which can be found at https://www.princeton.edu/~cuff/ele301/labs.html. The question was originally implemented in Matlab but ported to Python with some modifications, and we thank the ELE 301 teaching staff at Princeton for providing a great starting point for that question.  \n",
    "- Question 3 was inspired by a question on using NumPy to perform a Monte Carlo estimation of $\\pi$ from Lab 1 of the Fall 2018 offering of our very own Probability and Random Processes course, EECS 126, available at https://inst.eecs.berkeley.edu/~ee126/fa18/#labs.\n",
    "- Credit for the labelled piano layout image goes to Piano-Keyboard-Guide.com."
   ]
  },
  {
   "cell_type": "markdown",
   "metadata": {
    "deletable": false,
    "editable": false
   },
   "source": [
    "## Submission\n",
    "\n",
    "Make sure you have run all cells in your notebook in order before running the cell below, so that all images/graphs appear in the output. The cell below will generate a zip file for you to submit. **Please save before exporting!**\n",
    "\n",
    "Please upload the zip file produced by the result of this command to Gradescope."
   ]
  },
  {
   "cell_type": "code",
   "execution_count": null,
   "metadata": {
    "deletable": false,
    "editable": false
   },
   "outputs": [],
   "source": [
    "# Save your notebook first, then run this cell to export your submission.\n",
    "grader.export(run_tests=True)"
   ]
  },
  {
   "cell_type": "markdown",
   "metadata": {},
   "source": [
    " "
   ]
  },
  {
   "cell_type": "markdown",
   "metadata": {
    "deletable": false,
    "editable": false
   },
   "source": [
    "## Submission\n",
    "\n",
    "Make sure you have run all cells in your notebook in order before running the cell below, so that all images/graphs appear in the output. The cell below will generate a zip file for you to submit. **Please save before exporting!**"
   ]
  },
  {
   "cell_type": "code",
   "execution_count": null,
   "metadata": {
    "deletable": false,
    "editable": false
   },
   "outputs": [],
   "source": [
    "# Save your notebook first, then run this cell to export your submission.\n",
    "grader.export(run_tests=True)"
   ]
  },
  {
   "cell_type": "markdown",
   "metadata": {},
   "source": [
    " "
   ]
  }
 ],
 "metadata": {
  "anaconda-cloud": {},
  "kernelspec": {
   "display_name": "Python 3 (ipykernel)",
   "language": "python",
   "name": "python3"
  },
  "language_info": {
   "codemirror_mode": {
    "name": "ipython",
    "version": 3
   },
   "file_extension": ".py",
   "mimetype": "text/x-python",
   "name": "python",
   "nbconvert_exporter": "python",
   "pygments_lexer": "ipython3",
   "version": "3.10.10"
  },
  "otter": {
   "OK_FORMAT": true,
   "tests": {}
  }
 },
 "nbformat": 4,
 "nbformat_minor": 1
}

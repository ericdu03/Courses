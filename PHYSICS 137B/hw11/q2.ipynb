{
 "cells": [
  {
   "cell_type": "code",
   "execution_count": 65,
   "metadata": {},
   "outputs": [],
   "source": [
    "import numpy as np\n",
    "import matplotlib.pyplot as plt"
   ]
  },
  {
   "cell_type": "code",
   "execution_count": 69,
   "metadata": {},
   "outputs": [
    {
     "name": "stderr",
     "output_type": "stream",
     "text": [
      "/Users/eric/opt/anaconda3/lib/python3.9/site-packages/matplotlib/cbook/__init__.py:1333: ComplexWarning: Casting complex values to real discards the imaginary part\n",
      "  return np.asarray(x, float)\n"
     ]
    },
    {
     "data": {
      "image/png": "[encoded data removed]",
      "text/plain": [
       "<Figure size 432x288 with 1 Axes>"
      ]
     },
     "metadata": {
      "needs_background": "light"
     },
     "output_type": "display_data"
    }
   ],
   "source": [
    "deltas = np.deg2rad([32.5, 8.6, 0.4])\n",
    "\n",
    "def f(theta):\n",
    "    a = np.sin(deltas[1])**2 + 3 * np.cos(theta) * np.sin(deltas[2])**2 + 5/2 * (3 * np.cos(theta) - 1) * np.sin(deltas[2])**2\n",
    "    return np.conj(a) * a\n",
    "\n",
    "def f2(theta):\n",
    "    a = np.exp(complex(0, deltas[0])) * np.sin(deltas[0]) + 3 * np.cos(theta) * np.exp(complex(0, deltas[1])) * np.sin(deltas[1]) + 5 * 1/2 * (3 * (np.cos(theta))**2 - 1 ) * np.exp(complex(0, deltas[2])) * np.sin(deltas[2])\n",
    "    return np.conj(a) * a\n",
    "\n",
    "thetas = np.linspace(0, np.pi, 1000)\n",
    "\n",
    "plt.plot(thetas * 180/np.pi, f2(thetas))\n",
    "plt.xlabel(\"$\\\\theta$, degrees\")\n",
    "plt.ylabel(\"$d\\\\sigma/d\\\\Omega$\")\n",
    "plt.show()\n",
    "\n",
    "\n"
   ]
  },
  {
   "cell_type": "code",
   "execution_count": 67,
   "metadata": {},
   "outputs": [
    {
     "name": "stdout",
     "output_type": "stream",
     "text": [
      "(4.473836351546223+0j)\n"
     ]
    }
   ],
   "source": [
    "c = np.trapz(f2(thetas) * np.sin(thetas), x= thetas) \n",
    "print(c * 2 * np.pi)"
   ]
  },
  {
   "cell_type": "code",
   "execution_count": 68,
   "metadata": {},
   "outputs": [
    {
     "name": "stdout",
     "output_type": "stream",
     "text": [
      "(5.89188158562772+0j)\n"
     ]
    }
   ],
   "source": [
    "f3 = np.exp(complex(0, np.degrees(deltas[0])) * np.sin(deltas[0]) - 5 * np.exp(complex(0, np.degrees(deltas[2]))) * np.sin(deltas[2]))\n",
    "f3_sq = np.conj(f3) * f3\n",
    "\n",
    "print(2 * np.pi * f3_sq )"
   ]
  },
  {
   "cell_type": "code",
   "execution_count": null,
   "metadata": {},
   "outputs": [],
   "source": []
  }
 ],
 "metadata": {
  "kernelspec": {
   "display_name": "base",
   "language": "python",
   "name": "python3"
  },
  "language_info": {
   "codemirror_mode": {
    "name": "ipython",
    "version": 3
   },
   "file_extension": ".py",
   "mimetype": "text/x-python",
   "name": "python",
   "nbconvert_exporter": "python",
   "pygments_lexer": "ipython3",
   "version": "3.9.7"
  },
  "orig_nbformat": 4
 },
 "nbformat": 4,
 "nbformat_minor": 2
}

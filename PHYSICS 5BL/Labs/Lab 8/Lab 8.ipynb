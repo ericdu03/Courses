{
 "cells": [
  {
   "cell_type": "markdown",
   "metadata": {},
   "source": [
    "# Experiment 2: Ohmic Resistor\n",
    "\n"
   ]
  },
  {
   "cell_type": "code",
   "execution_count": 2,
   "metadata": {},
   "outputs": [],
   "source": [
    "import numpy as np\n",
    "import scipy as sci\n",
    "import matplotlib\n",
    "import matplotlib.pyplot as plt\n",
    "import scipy.optimize as opt\n",
    "from scipy.interpolate import interp1d\n",
    "\n",
    "time, highGain, analog_7, analog_8 = np.loadtxt('nonohmic.csv', delimiter = ',', skiprows = 1, usecols = (0, 1, 2, 3), unpack = True)\n",
    "time1, highGain1, analog7_1 = np.loadtxt('ohmic.csv', delimiter = ',', skiprows = 1, usecols = (0, 1, 2), unpack = True)"
   ]
  },
  {
   "cell_type": "markdown",
   "metadata": {},
   "source": [
    "First thing we would like to do is to find the time points where the voltage changes, which indicates when we changed the voltage. This is so that we can compute the average voltage measured over time, which we will then use for our analysis. The best way to do this that I've found so far is to read through the .csv file and record down the x-values where the voltage appears to spike. We can plot them as well to see whether we're correct:"
   ]
  },
  {
   "cell_type": "code",
   "execution_count": 3,
   "metadata": {},
   "outputs": [
    {
     "data": {
      "image/png": "[encoded data removed]",
      "text/plain": [
       "<Figure size 432x288 with 1 Axes>"
      ]
     },
     "metadata": {
      "needs_background": "light"
     },
     "output_type": "display_data"
    }
   ],
   "source": [
    "plt.scatter(time1, highGain1, s = 0.01, c = \"orange\")\n",
    "plt.scatter(time1, analog7_1, s = 0.01, c = \"blue\")\n",
    "\n",
    "vert_lines1 = np.array([3.52, 8.35, 13.60, 18.29, 22.43, 27.30, 31.55, 36.25, 41.34, 46.29, 52.06])\n",
    "plt.vlines(vert_lines1, 0, 4)\n",
    "plt.show()"
   ]
  },
  {
   "cell_type": "code",
   "execution_count": 4,
   "metadata": {},
   "outputs": [],
   "source": [
    "#Performing the slicing\n",
    "\n",
    "slice_01 = (time1 > 0) & (time1 < 3.52)\n",
    "slice_02 = (time1 > 8.35) & (time1 < 13.60)\n",
    "slice_03 = (time1 > 13.60) & (time1 < 18.29)\n",
    "slice_04 = (time1 > 22.43) & (time1 < 27.30)\n",
    "slice_05 = (time1 > 27.30) & (time1 < 31.55)\n",
    "slice_06 = (time1 > 31.55) & (time1 < 36.25)\n",
    "slice_07 = (time1 > 36.25) & (time1 < 41.34)\n",
    "slice_08 = (time1 > 41.34) & (time1 < 46.29)\n",
    "slice_09 = (time1 > 46.29) & (time1 < 52.06)\n",
    "\n",
    "a7_slice_01, hg_slice_01 = analog7_1[slice_01], highGain1[slice_01]\n",
    "a7_slice_02, hg_slice_02 = analog7_1[slice_02], highGain1[slice_02]\n",
    "a7_slice_03, hg_slice_03 = analog7_1[slice_03], highGain1[slice_03]\n",
    "a7_slice_04, hg_slice_04 = analog7_1[slice_04], highGain1[slice_04]\n",
    "a7_slice_05, hg_slice_05 = analog7_1[slice_05], highGain1[slice_05]\n",
    "a7_slice_06, hg_slice_06 = analog7_1[slice_06], highGain1[slice_06]\n",
    "a7_slice_07, hg_slice_07 = analog7_1[slice_07], highGain1[slice_07]\n",
    "a7_slice_08, hg_slice_08 = analog7_1[slice_08], highGain1[slice_08]\n",
    "a7_slice_09, hg_slice_09 = analog7_1[slice_09], highGain1[slice_09]\n",
    "\n",
    "a7_1 = []\n",
    "hg_1 = []\n",
    "erra7_1 = []\n",
    "errhg_1 = []\n",
    "for i in range(9):\n",
    "    a7_1.append(np.mean(vars()[\"a7_slice_0\" + str(i+1)]))\n",
    "    hg_1.append(np.mean(vars()[\"hg_slice_0\" + str(i+1)]))\n",
    "    erra7_1.append(np.std(vars()[\"a7_slice_0\" + str(i+1)]))\n",
    "    errhg_1.append(np.std(vars()[\"hg_slice_0\" + str(i+1)]))\n",
    "    "
   ]
  },
  {
   "cell_type": "markdown",
   "metadata": {},
   "source": [
    "Note that the high gain measurements measures the voltage across the $1 \\Omega$ resistor, and the analog 7 (A7) measures the total voltage drop across both resistors. So to find the voltage drop across the $10\\text{k} \\Omega$ resistor, we have to take the analog 7 input and subtract off the high gain measurement. The high gain is also useful here to measure the current. Since $V = IR$ is the theoretical relationship and our resistor conveniently has a resistance of 1, then the voltage reading that we get also happens to be the current through the entire system.\n",
    "\n",
    "Essentially, this means that if we plot high gain against the voltage we should expect to see a linear relationship."
   ]
  },
  {
   "cell_type": "code",
   "execution_count": 5,
   "metadata": {},
   "outputs": [
    {
     "data": {
      "image/png": "[encoded data removed]",
      "text/plain": [
       "<Figure size 432x288 with 1 Axes>"
      ]
     },
     "metadata": {
      "needs_background": "light"
     },
     "output_type": "display_data"
    }
   ],
   "source": [
    "\n",
    "plt.scatter(hg_1, a7_1)\n",
    "plt.show()"
   ]
  },
  {
   "cell_type": "markdown",
   "metadata": {},
   "source": [
    "From this we can see visually that the plot appears to be linear. To verify this, we can perform a linear regression. We expect our plot to obey the form $y = mx$, so that's the regression model we use. However, we will introduce this y-intercept $b$, which will essentially represent the systematic offset from the high gain not being zeroed.\n"
   ]
  },
  {
   "cell_type": "code",
   "execution_count": 6,
   "metadata": {},
   "outputs": [
    {
     "name": "stdout",
     "output_type": "stream",
     "text": [
      "Slope: 10.590562662874095 ± 0.0050057712950719695\n",
      "y-intercept: 0.8358430394626908 ± 0.0006252615245745789\n"
     ]
    }
   ],
   "source": [
    "def linear(m, x, b):\n",
    "    return m*x + b\n",
    "\n",
    "opt1, cov1= opt.curve_fit(linear, hg_1, a7_1)\n",
    "slope1, y_int1 = opt1\n",
    "dslope1, dy_int1 = np.sqrt(np.diag(cov1))\n",
    "\n",
    "print(f\"Slope: {slope1} \\u00b1 {dslope1}\")\n",
    "print(f\"y-intercept: {y_int1} \\u00b1 {dy_int1}\")"
   ]
  },
  {
   "cell_type": "code",
   "execution_count": 7,
   "metadata": {},
   "outputs": [
    {
     "data": {
      "image/png": "[encoded data removed]",
      "text/plain": [
       "<Figure size 432x288 with 1 Axes>"
      ]
     },
     "metadata": {
      "needs_background": "light"
     },
     "output_type": "display_data"
    }
   ],
   "source": [
    "x_values = np.linspace(-0.1, 0.3, 20)\n",
    "y_values = slope1*x_values + y_int1\n",
    "\n",
    "plt.scatter(hg_1, a7_1)\n",
    "plt.plot(x_values, y_values, c = 'orange')\n",
    "plt.show()"
   ]
  },
  {
   "cell_type": "markdown",
   "metadata": {},
   "source": [
    "The very strong agreement with the linear plot confirms Ohm's law: $V = IR$. Furthermore, since the x-axis is also representative of current, the slope of the line represents the resistance of the $10k\\Omega$ resistor. This is also exactly what we see, since the slope is $9.59 \\pm 0.005$."
   ]
  },
  {
   "cell_type": "markdown",
   "metadata": {},
   "source": [
    "# Experiment 2: Non Ohmic Resistor\n",
    "\n",
    "One thing I would like to point out here (and I also elaborate more on in the actual lab report), but since the first data set was simply used to figure out which voltage ranges we should be using, I did not do any analysis on that dataset. <!-- maybe change this -->\n",
    "\n",
    "Just like last time, we first have to import the data, which we do here:"
   ]
  },
  {
   "cell_type": "markdown",
   "metadata": {},
   "source": [
    "First we need to figure out the time intervals in which we changed the voltage. Just like with the ohmic resistor, we plot the voltage against time, and plot vertical lines."
   ]
  },
  {
   "cell_type": "code",
   "execution_count": 8,
   "metadata": {},
   "outputs": [
    {
     "data": {
      "image/png": "[encoded data removed]",
      "text/plain": [
       "<Figure size 432x288 with 1 Axes>"
      ]
     },
     "metadata": {
      "needs_background": "light"
     },
     "output_type": "display_data"
    }
   ],
   "source": [
    "plt.scatter(time, highGain, c = 'blue', s = 0.01)\n",
    "plt.scatter(time, analog_7, c = 'orange', s = 0.01)\n",
    "plt.scatter(time, analog_8, c = 'purple', s = 0.01)\n",
    "\n",
    "vert_lines2 = np.array([0, 2.18, 11.37, 15.01, 18.79, 22.22, 25.67, 29.63, 34.04, 38.38, 42.31, 46.22])\n",
    "plt.vlines(vert_lines2, 0, 4)\n",
    "plt.show()"
   ]
  },
  {
   "cell_type": "code",
   "execution_count": 9,
   "metadata": {},
   "outputs": [],
   "source": [
    "slice_1 = (time > 2.18) & (time < 11.37)\n",
    "slice_2 = (time > 11.37) & (time < 15.01)\n",
    "slice_3 = (time > 15.01) & (time < 18.79)\n",
    "slice_4 = (time > 18.79) & (time < 22.22)\n",
    "slice_5 = (time > 22.22) & (time < 25.67)\n",
    "slice_6 = (time > 25.67) & (time < 29.63)\n",
    "slice_7 = (time > 29.63) & (time < 34.04)\n",
    "slice_8 = (time > 34.04) & (time < 38.38)\n",
    "slice_9 = (time > 38.38) & (time < 42.31)\n",
    "slice_10 = (time > 42.31) & (time < 46.22)\n",
    "\n",
    "\n",
    "a7_slice1, a8_slice1, hg_slice1 = analog_7[slice_1], analog_8[slice_1], highGain[slice_1]\n",
    "a7_slice2, a8_slice2, hg_slice2 = analog_7[slice_2], analog_8[slice_2], highGain[slice_2]\n",
    "a7_slice3, a8_slice3, hg_slice3 = analog_7[slice_3], analog_8[slice_3], highGain[slice_3]\n",
    "a7_slice4, a8_slice4, hg_slice4 = analog_7[slice_4], analog_8[slice_4], highGain[slice_4]\n",
    "a7_slice5, a8_slice5, hg_slice5 = analog_7[slice_5], analog_8[slice_5], highGain[slice_5]\n",
    "a7_slice6, a8_slice6, hg_slice6 = analog_7[slice_6], analog_8[slice_6], highGain[slice_6]\n",
    "a7_slice7, a8_slice7, hg_slice7 = analog_7[slice_7], analog_8[slice_7], highGain[slice_7]\n",
    "a7_slice8, a8_slice8, hg_slice8 = analog_7[slice_8], analog_8[slice_8], highGain[slice_8]\n",
    "a7_slice9, a8_slice9, hg_slice9 = analog_7[slice_9], analog_8[slice_9], highGain[slice_9]\n",
    "a7_slice10, a8_slice10, hg_slice10 = analog_7[slice_10], analog_8[slice_10], highGain[slice_10]\n",
    "\n",
    "a7 = []\n",
    "a8 = []\n",
    "hg = []\n",
    "erra7 = []\n",
    "erra8 = []\n",
    "errhg = []\n",
    "for i in range(10):\n",
    "    a7.append(np.mean(vars()[\"a7_slice\" + str(i+1)]))\n",
    "    a8.append(np.mean(vars()[\"a8_slice\" + str(i+1)]))\n",
    "    hg.append(np.mean(vars()[\"hg_slice\" + str(i+1)]))\n",
    "    erra7.append(np.std(vars()[\"a7_slice\" + str(i+1)]))\n",
    "    erra8.append(np.std(vars()[\"a8_slice\" + str(i+1)]))\n",
    "    errhg.append(np.std(vars()[\"hg_slice\" + str(i+1)]))\n"
   ]
  },
  {
   "cell_type": "markdown",
   "metadata": {},
   "source": [
    "It's hard to see from the scatter plot, so I used `plt.plot` instead. From here, we can see that the plot is almost linear. This is expected, since we selected our minimum voltage such that it would casue the LED to illuminate, and when this threshold is met the diode essentially behaves like a resistor, except that the voltage drop across it is always constant. As a result, we expect a linear plot, and this is verified nicely by our data. "
   ]
  },
  {
   "cell_type": "code",
   "execution_count": 10,
   "metadata": {},
   "outputs": [
    {
     "name": "stdout",
     "output_type": "stream",
     "text": [
      "Slope: 1.2500941218879296 ± 0.010389985111086405\n",
      "y-intercept: 2.280550406123433 ± 0.0048370178929341605\n"
     ]
    }
   ],
   "source": [
    "opt2, cov2 = opt.curve_fit(linear, hg, a7)\n",
    "slope2, y_int2 = opt2\n",
    "dslope2, dy_int2 = np.sqrt(np.diag(cov2))\n",
    "\n",
    "print(f\"Slope: {slope2} \\u00b1 {dslope2}\")\n",
    "print(f\"y-intercept: {y_int2} \\u00b1 {dy_int2}\")"
   ]
  },
  {
   "cell_type": "markdown",
   "metadata": {},
   "source": [
    "This makes sense!"
   ]
  }
 ],
 "metadata": {
  "interpreter": {
   "hash": "5f8929016d30f12a89eab5b5e02a6c1410fc73da4b23b89b4eb7a3bc58137fe5"
  },
  "kernelspec": {
   "display_name": "Python 3.9.7 ('base')",
   "language": "python",
   "name": "python3"
  },
  "language_info": {
   "codemirror_mode": {
    "name": "ipython",
    "version": 3
   },
   "file_extension": ".py",
   "mimetype": "text/x-python",
   "name": "python",
   "nbconvert_exporter": "python",
   "pygments_lexer": "ipython3",
   "version": "3.9.7"
  },
  "orig_nbformat": 4
 },
 "nbformat": 4,
 "nbformat_minor": 2
}

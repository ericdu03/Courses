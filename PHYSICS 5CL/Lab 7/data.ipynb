{
 "cells": [
  {
   "cell_type": "markdown",
   "metadata": {},
   "source": [
    "# Experiment 2"
   ]
  },
  {
   "cell_type": "code",
   "execution_count": 66,
   "metadata": {},
   "outputs": [],
   "source": [
    "import numpy as np\n",
    "import matplotlib.pyplot as plt\n",
    "import scipy.optimize as opt\n",
    "from scipy.interpolate import interp1d"
   ]
  },
  {
   "cell_type": "code",
   "execution_count": 67,
   "metadata": {},
   "outputs": [],
   "source": [
    "m_initial = 0\n",
    "m_final = np.array([0,\n",
    "10,\n",
    "20,\n",
    "30,\n",
    "40,\n",
    "50,\n",
    "60,\n",
    "70,\n",
    "80,\n",
    "90,\n",
    "100,\n",
    "110,\n",
    "120,\n",
    "130,\n",
    "140,\n",
    "150,160,170,180,190,200\n",
    "])\n",
    "\n",
    "\n",
    "h_initial = np.array([58.5,\n",
    "58.5,\n",
    "58.5,\n",
    "57,\n",
    "57,\n",
    "56.5,\n",
    "56,\n",
    "55.5,\n",
    "54.5,\n",
    "53,\n",
    "52,\n",
    "52,\n",
    "50.5,\n",
    "50,\n",
    "49,\n",
    "48.5,\n",
    "47.5,\n",
    "46.5,\n",
    "46,\n",
    "45,\n",
    "45\n",
    "])\n",
    "\n",
    "h_final = np.array([58.5,\n",
    "58.0,\n",
    "57.5,\n",
    "56.5,\n",
    "55.5,\n",
    "55,\n",
    "54.5,\n",
    "53,\n",
    "51,\n",
    "50,\n",
    "49.5,\n",
    "48.5,\n",
    "47,\n",
    "46,\n",
    "45.5,\n",
    "45,\n",
    "43.5,\n",
    "42.5,\n",
    "41,\n",
    "40.5,\n",
    "40\n",
    "\n",
    "])"
   ]
  },
  {
   "cell_type": "code",
   "execution_count": 76,
   "metadata": {},
   "outputs": [
    {
     "data": {
      "image/png": "[encoded data removed]",
      "text/plain": [
       "<Figure size 432x288 with 1 Axes>"
      ]
     },
     "metadata": {
      "needs_background": "light"
     },
     "output_type": "display_data"
    }
   ],
   "source": [
    "p_piston = 101325 + (0.0485 * 9.81/0.0008295) # mass of pison/area in square meters\n",
    "\n",
    "#Additional pressure exerted by the masses\n",
    "pressure_mass = (m_final * 9.81/1000)/0.0008295\n",
    "\n",
    "# Calculation of delta P and P\n",
    "total_P = pressure_mass + p_piston\n",
    "deltaP = total_P - p_piston\n",
    "\n",
    "v_canister = (171.7 + 6.2)/10**6\n",
    "\n",
    "v_initial = np.pi * (32.5/2000)**2 * h_initial/1000 + v_canister\n",
    "v_final = np.pi * (32.5/2000)**2 * h_final/1000 + v_canister\n",
    "\n",
    "deltaV = v_final - v_initial\n",
    "\n",
    "dp_p = deltaP/p_piston\n",
    "dv_v = deltaV/v_initial\n",
    "\n",
    "plt.scatter(deltaP/p_piston, deltaV/v_initial)\n",
    "plt.show()"
   ]
  },
  {
   "cell_type": "code",
   "execution_count": 85,
   "metadata": {},
   "outputs": [
    {
     "data": {
      "image/png": "[encoded data removed]",
      "text/plain": [
       "<Figure size 432x288 with 1 Axes>"
      ]
     },
     "metadata": {
      "needs_background": "light"
     },
     "output_type": "display_data"
    },
    {
     "name": "stdout",
     "output_type": "stream",
     "text": [
      "Fitted curve: -0.7824106518527622 ± 0.05162477278404324, -0.001457497288417181 ± 0.0007004448442633205\n"
     ]
    }
   ],
   "source": [
    "def linear(x, m, b):\n",
    "    return m*x + b\n",
    "\n",
    "\n",
    "lin, cov = opt.curve_fit(linear, dp_p, dv_v)\n",
    "m, b = lin \n",
    "dm, db = np.sqrt(np.diag(cov))\n",
    "\n",
    "plt.plot(np.linspace(0, 0.03, 10), linear(np.linspace(0, 0.03, 10), m, b), c = 'r', label=\"fit\") \n",
    "plt.scatter(dp_p, dv_v, label='data') \n",
    "plt.title(\"$\\Delta V/V$ vs. $\\Delta P/P$\")\n",
    "plt.xlabel(\"$\\Delta P/P$\")\n",
    "plt.ylabel(\"$\\Delta V/V$\")\n",
    "plt.legend()\n",
    "plt.show()\n",
    "\n",
    "print(f\"Fitted curve: {m} ± {dm}, {b} ± {db}\")"
   ]
  },
  {
   "cell_type": "markdown",
   "metadata": {},
   "source": [
    "## Finding the Errors"
   ]
  },
  {
   "cell_type": "code",
   "execution_count": 69,
   "metadata": {},
   "outputs": [],
   "source": [
    "def alpha_v(d: float, h: float, alphad: float, alphah: float):\n",
    "    return np.sqrt((np.pi * (d/2)**2 * alphah)**2 + (2 * d * alphad/4 * np.pi * h)**2)"
   ]
  },
  {
   "cell_type": "code",
   "execution_count": 70,
   "metadata": {},
   "outputs": [],
   "source": [
    "# alpha_can = np.sqrt((np.pi * (0.0462/2)**2 * 0.0003)**2 + (2 * 0.0462 * 0.0002/4 * np.pi * 0.1024)**2)\n",
    "# alpha_tube = np.sqrt((np.pi * (0.0035/2)**2 * 0.0001)**2 + (2 * 0.0035 * 0.0002/4 * np.pi * 0.638)**2)\n",
    "# alpha_piston_final = np.sqrt((np.pi * (0.00325/2)**2 * 0.00005)**2 + (2 * 0.0325 * 0.0001/4 * np.pi * h_final) ** 2)\n",
    "# alpha_piston_initial = np.sqrt((np.pi * (0.00325/2)**2 * 0.00005)**2 + (2 * 0.0325 * 0.0001/4 * np.pi * h_initial) ** 2)\n",
    "\n",
    "alpha_p = np.sqrt((0.001/(np.pi * (0.00325/2)**2) * (9.8/1000))**2 + (m_final/1000 * 9.8 * (np.pi * 2 * 0.00325 * 0.0001/4)/(np.pi * (0.00325/2)**2)**2)**2)\n",
    "\n",
    "alpha_can = alpha_v(0.0462, 0.1024, 0.0002, 0.003)\n",
    "alpha_tube = alpha_v(0.0035, 0.638, 0.00001, 0.0001)\n",
    "alpha_piston_final = alpha_v(0.0325, h_final/1000, 0.0001, 0.00005)\n",
    "alpha_piston_initial = alpha_v(0.0325, h_initial/1000, 0.0001, 0.00005)\n",
    "\n",
    "\n",
    "\n",
    "alpha_v_tot_initial = np.sqrt(alpha_piston_initial**2)\n",
    "alpha_v_tot_final = np.sqrt(alpha_piston_final**2)\n",
    "\n",
    "alpha_dv_v = np.sqrt((alpha_v_tot_initial/(v_initial**2) * v_final)**2 + (alpha_v_tot_final/v_initial)**2)\n",
    "alpha_dp_p = alpha_p/101897.996"
   ]
  },
  {
   "cell_type": "code",
   "execution_count": 75,
   "metadata": {},
   "outputs": [
    {
     "name": "stdout",
     "output_type": "stream",
     "text": [
      "[-9.08096404e-06 -5.58829294e-03 -1.11765748e-02 -1.67648592e-02\n",
      " -2.23531441e-02 -2.79414293e-02 -3.35297146e-02 -3.91180000e-02\n",
      " -4.47062854e-02 -5.02945709e-02 -5.58828564e-02 -6.14711419e-02\n",
      " -6.70594274e-02 -7.26477129e-02 -7.82359984e-02 -8.38242840e-02\n",
      " -8.94125695e-02 -9.50008550e-02 -1.00589141e-01 -1.06177426e-01\n",
      " -1.11765712e-01]\n"
     ]
    }
   ],
   "source": [
    "slope = -0.7833\n",
    "\n",
    "alpha_equiv = np.sqrt(alpha_dv_v**2 + (slope * alpha_dp_p)**2)\n",
    "\n",
    "# print(alpha_v_tot_initial)\n",
    "# print(alpha_v_tot_final)\n",
    "\n",
    "# print(alpha_piston_initial)\n",
    "print(slope*alpha_dp_p)\n",
    "\n",
    "# print(alpha_equiv)"
   ]
  },
  {
   "cell_type": "code",
   "execution_count": 88,
   "metadata": {},
   "outputs": [
    {
     "data": {
      "image/png": "[encoded data removed]",
      "text/plain": [
       "<Figure size 432x288 with 1 Axes>"
      ]
     },
     "metadata": {
      "needs_background": "light"
     },
     "output_type": "display_data"
    }
   ],
   "source": [
    "m_outside = np.array([0, 50, 100, 150, 200])\n",
    "h2_initial = np.array([58.5, 58.5, 57.5, 56.5, 56])\n",
    "h2_final = np.array([58.5,  56.5, 54.5, 52, 50])\n",
    "\n",
    "\n",
    "pressure_out2 = (m_outside * 9.81/1000)/0.0008295\n",
    "\n",
    "# Calculation of delta P and P\n",
    "total_P2 = pressure_out2 + p_piston\n",
    "deltaP2 = total_P2 - p_piston\n",
    "\n",
    "v2_initial = np.pi * (32.5/2000)**2 * h2_initial/1000 + v_canister\n",
    "v2_final = np.pi * (32.5/2000)**2 * h2_final/1000 + v_canister\n",
    "\n",
    "deltaV2 = v2_final - v2_initial\n",
    "\n",
    "dp_p2 = deltaP2/p_piston\n",
    "dv_v2 = deltaV2/v2_initial\n",
    "\n",
    "plt.scatter(deltaP2/p_piston, deltaV2/v2_initial)\n",
    "plt.show()"
   ]
  },
  {
   "cell_type": "code",
   "execution_count": 90,
   "metadata": {},
   "outputs": [
    {
     "data": {
      "image/png": "[encoded data removed]",
      "text/plain": [
       "<Figure size 432x288 with 1 Axes>"
      ]
     },
     "metadata": {
      "needs_background": "light"
     },
     "output_type": "display_data"
    },
    {
     "name": "stdout",
     "output_type": "stream",
     "text": [
      "Fitted curve: -0.9245527317701635 ± 0.04748505217620032, -0.0007001864152988696 ± 0.0006749740086321093\n"
     ]
    }
   ],
   "source": [
    "lin2, cov2 = opt.curve_fit(linear, dp_p2, dv_v2)\n",
    "m2, b2 = lin2 \n",
    "dm2, db2 = np.sqrt(np.diag(cov2))\n",
    "\n",
    "plt.plot(np.linspace(0, 0.03, 10), linear(np.linspace(0, 0.03, 10), m2, b2), c = 'r', label=\"fit\") \n",
    "plt.scatter(dp_p2, dv_v2, label='data') \n",
    "plt.title(\"$\\Delta V/V$ vs. $\\Delta P/P$\")\n",
    "plt.xlabel(\"$\\Delta P/P$\")\n",
    "plt.ylabel(\"$\\Delta V/V$\")\n",
    "plt.legend()\n",
    "plt.show()\n",
    "\n",
    "\n",
    "print(f\"Fitted curve: {m2} ± {dm2}, {b2} ± {db2}\")"
   ]
  },
  {
   "cell_type": "code",
   "execution_count": null,
   "metadata": {},
   "outputs": [],
   "source": []
  }
 ],
 "metadata": {
  "kernelspec": {
   "display_name": "Python 3.9.7 ('base')",
   "language": "python",
   "name": "python3"
  },
  "language_info": {
   "codemirror_mode": {
    "name": "ipython",
    "version": 3
   },
   "file_extension": ".py",
   "mimetype": "text/x-python",
   "name": "python",
   "nbconvert_exporter": "python",
   "pygments_lexer": "ipython3",
   "version": "3.9.7"
  },
  "orig_nbformat": 4,
  "vscode": {
   "interpreter": {
    "hash": "5f8929016d30f12a89eab5b5e02a6c1410fc73da4b23b89b4eb7a3bc58137fe5"
   }
  }
 },
 "nbformat": 4,
 "nbformat_minor": 2
}

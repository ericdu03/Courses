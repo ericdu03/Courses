{
 "cells": [
  {
   "cell_type": "markdown",
   "metadata": {},
   "source": [
    "# Experiment 2"
   ]
  },
  {
   "cell_type": "code",
   "execution_count": 19,
   "metadata": {},
   "outputs": [],
   "source": [
    "import sys\n",
    "sys.path.append(r\"../lab_analysis\")\n",
    "\n",
    "import analysis_utils as au\n",
    "import numpy as np\n",
    "import matplotlib.pyplot as plt\n",
    "import scipy.optimize as opt\n",
    "from scipy.interpolate import interp1d"
   ]
  },
  {
   "cell_type": "code",
   "execution_count": 20,
   "metadata": {},
   "outputs": [
    {
     "name": "stdout",
     "output_type": "stream",
     "text": [
      "mc Dataset:\n",
      "\t65.0 ± 1.0\n",
      "\t71.0 ± 1.0\n",
      "\t39.0 ± 1.0\n",
      "\t\tMean: 58.333333333333336\n",
      "\t\tStd : 17.009801096230767\n",
      "\t\tSte from values: 9.820613241770825\n",
      "\t\tSte from errors: 0.5773502691896257\n",
      "mh Dataset:\n",
      "\t156.0 ± 1.0\n",
      "\t175.0 ± 1.0\n",
      "\t303.0 ± 1.0\n",
      "\t\tMean: 211.33333333333334\n",
      "\t\tStd : 79.95206897468842\n",
      "\t\tSte from values: 46.16034854480389\n",
      "\t\tSte from errors: 0.5773502691896257\n",
      "mf Dataset:\n",
      "\t218.0 ± 1.0\n",
      "\t243.0 ± 1.0\n",
      "\t339.0 ± 1.0\n",
      "\t\tMean: 266.6666666666667\n",
      "\t\tStd : 63.87748690527308\n",
      "\t\tSte from values: 36.87968425991621\n",
      "\t\tSte from errors: 0.5773502691896257\n",
      "Tc Dataset:\n",
      "\t-1.3 ± 0.1\n",
      "\t-1.3 ± 0.1\n",
      "\t-1.0 ± 0.1\n",
      "\t\tMean: -1.2\n",
      "\t\tStd : 0.17320508075688776\n",
      "\t\tSte from values: 0.10000000000000002\n",
      "\t\tSte from errors: 0.05773502691896259\n",
      "Th Dataset:\n",
      "\t46.0 ± 0.1\n",
      "\t45.7 ± 0.1\n",
      "\t45.6 ± 0.1\n",
      "\t\tMean: 45.76666666666667\n",
      "\t\tStd : 0.20816659994661224\n",
      "\t\tSte from values: 0.12018504251546572\n",
      "\t\tSte from errors: 0.05773502691896259\n",
      "Tf Dataset:\n",
      "\t10.7 ± 0.1\n",
      "\t11.9 ± 0.1\n",
      "\t33.0 ± 0.1\n",
      "\t\tMean: 18.533333333333335\n",
      "\t\tStd : 12.542859854647716\n",
      "\t\tSte from values: 7.2416235134886096\n",
      "\t\tSte from errors: 0.05773502691896259\n",
      "Latex: \\sqrt{c_{w}^{2} \\alpha_{T c}^{2} + \\frac{c_{w}^{2} m_{h}^{2} \\alpha_{T h}^{2}}{m_{c}^{2}} + \\frac{c_{w}^{2} \\alpha_{T f}^{2} \\left(- m_{c} + m_{h}\\right)^{2}}{m_{c}^{2}} + \\frac{c_{w}^{2} \\alpha_{m h}^{2} \\left(T_{f} - T_{h}\\right)^{2}}{m_{c}^{2}} + \\alpha_{m c}^{2} \\left(\\frac{c_{w} \\left(T_{c} - T_{f}\\right)}{m_{c}} - \\frac{c_{w} \\left(- m_{c} \\left(- T_{c} + T_{f}\\right) + m_{h} \\left(T_{f} - T_{h}\\right)\\right)}{m_{c}^{2}}\\right)^{2} + \\frac{\\alpha_{c w}^{2} \\left(- m_{c} \\left(- T_{c} + T_{f}\\right) + m_{h} \\left(T_{f} - T_{h}\\right)\\right)^{2}}{m_{c}^{2}}}\n",
      "Latent Heat Dataset:\n",
      "\t-404.67647999999997 ± 6.036394682794027\n",
      "\t-403.7972507042254 ± 5.449145964721547\n",
      "\t-551.8374153846155 ± 11.441234841839881\n",
      "\t\tMean: -453.43704869628027\n",
      "\t\tStd : 85.21835121813704\n",
      "\t\tSte from values: 49.200838015687495\n",
      "\t\tSte from errors: 4.678949397952921\n"
     ]
    }
   ],
   "source": [
    "# get experimental data\n",
    "data = au.read_from_docs_splitting(\"exp2data.txt\", 1, (0, 0), float)\n",
    "\n",
    "# chop last trial because the ice didn't melt\n",
    "for i, (values, errors) in enumerate(data):\n",
    "    data[i] = values[:-1], errors[:-1]\n",
    "\n",
    "# assign names to data\n",
    "(mc, mc_err), (mh, mh_err), (mf, mf_err), (Tc, Tc_err), (Th, Th_err), (Tf, Tf_err) = data\n",
    "\n",
    "# check that data is correct\n",
    "au.print_datasets([\"mc\", \"mh\", \"mf\", \"Tc\", \"Th\", \"Tf\"], data)\n",
    "\n",
    "# heat capacity of water\n",
    "cw, cw_err = np.full(len(mc), 4.184), np.full(len(mc), 0.001)\n",
    "\n",
    "# heat capacity of ice\n",
    "ci, ci_err = np.full(len(mc), 2.093), np.full(len(mc), 0.001)\n",
    "\n",
    "# create expression and symbols list\n",
    "latent_heat_expr = \"c_w * ( m_h * (T_f - T_h) - m_c * (T_f - T_c) ) / m_c\"\n",
    "syms = [\"m_c\", \"m_h\", \"T_c\", \"T_h\", \"T_f\", \"c_w\"]\n",
    "\n",
    "latex_string = au.get_error_propagation_latex(latent_heat_expr, syms, False).replace(r\"α\", r\"\\alpha\")\n",
    "# get latex for error prop expression\n",
    "print(f\"Latex: {latex_string}\")\n",
    "\n",
    "# get latent heat values\n",
    "L, L_err = au.calculate_derived_value(latent_heat_expr, syms, [], [], [mc, mh, Tc, Th, Tf, cw], [mc_err, mh_err, Tc_err, Th_err, Tf_err, cw_err], False)\n",
    "au.print_dataset(\"Latent Heat\", L, L_err)"
   ]
  },
  {
   "cell_type": "markdown",
   "metadata": {},
   "source": [
    "# Experiment 3"
   ]
  },
  {
   "cell_type": "code",
   "execution_count": 21,
   "metadata": {},
   "outputs": [
    {
     "data": {
      "text/plain": [
       "Text(0, 0.5, 'Temperature ($^\\\\circ$C)')"
      ]
     },
     "execution_count": 21,
     "metadata": {},
     "output_type": "execute_result"
    },
    {
     "data": {
      "image/png": "[encoded data removed]",
      "text/plain": [
       "<Figure size 720x288 with 2 Axes>"
      ]
     },
     "metadata": {
      "needs_background": "light"
     },
     "output_type": "display_data"
    }
   ],
   "source": [
    "time_short, temperature_short = np.loadtxt('short_trial.csv', delimiter = \",\", skiprows = 1, usecols=(0, 1), unpack = True)\n",
    "\n",
    "time_long, temperature_long = np.loadtxt('long_trial.csv', delimiter = \",\", skiprows = 1, usecols=(0, 1), unpack = True)\n",
    "\n",
    "fig1, axes = plt.subplots(1, 2)\n",
    "fig1.set_figwidth(10, 15)\n",
    "\n",
    "axes[0].scatter(time_short, temperature_short, s = 0.5)\n",
    "axes[0].set_title(\"Temperature vs. Time, short trial\")\n",
    "axes[0].set_xlabel(\"Time (s)\")\n",
    "axes[0].set_ylabel(\"Temperature ($^\\circ$C)\")\n",
    "\n",
    "axes[1].scatter(time_long, temperature_long, s = 0.5) \n",
    "axes[1].set_title(\"Temperature vs. Time, long trial\")\n",
    "axes[1].set_xlabel(\"Time (s)\")\n",
    "axes[1].set_ylabel(\"Temperature ($^\\circ$C)\")"
   ]
  },
  {
   "cell_type": "code",
   "execution_count": 22,
   "metadata": {},
   "outputs": [
    {
     "name": "stdout",
     "output_type": "stream",
     "text": [
      "Heat flow: 4.082732937266717\n",
      "Thermal Conductivity: 0.03301098249263259\n"
     ]
    }
   ],
   "source": [
    "dT_dt_short = [(temperature_short[i+1] - temperature_short[i-1])/(time_short[i+1] - time_short[i-1]) for i in range(1, len(temperature_short)-1)]\n",
    "\n",
    "dT_dt_short = [(temperature_short[1] - temperature_short[0])/(time_short[1]-time_short[0])] + dT_dt_short\n",
    "dT_dt_short += [(temperature_short[-1] - temperature_short[-2])/(time_short[-1] - time_short[-2])]\n",
    "\n",
    "dT_dt_short = np.array(dT_dt_short)\n",
    "\n",
    "T_out = 46.7\n",
    "l = 0.0027\n",
    "cw = 4.184\n",
    "mw = 121\n",
    "r = 0.03\n",
    "h = 0.05\n",
    "\n",
    "H = mw * cw * dT_dt_short\n",
    "\n",
    "K = [mw * cw * (dT_dt_short) * l/((2 * np.pi * r * h + np.pi * r**2) * (T_out - temperature_short))]\n",
    "\n",
    "\n",
    "print(f\"Heat flow: {np.mean(H)}\")\n",
    "print(f\"Thermal Conductivity: {np.mean(K)}\")\n"
   ]
  },
  {
   "cell_type": "code",
   "execution_count": 24,
   "metadata": {},
   "outputs": [
    {
     "name": "stdout",
     "output_type": "stream",
     "text": [
      "Heat flow: 9.819585446467425\n",
      "Thermal Conductivity: 0.03117795962434889\n"
     ]
    }
   ],
   "source": [
    "dT_dt_long = [(temperature_long[i+1] - temperature_long[i-1])/(time_long[i+1] - time_long[i-1]) for i in range(1, len(temperature_long)-1)]\n",
    "\n",
    "dT_dt_long = [(temperature_long[1] - temperature_long[0])/(time_long[1]-time_long[0])] + dT_dt_long\n",
    "dT_dt_long += [(temperature_long[-1] - temperature_long[-2])/(time_long[-1] - time_long[-2])]\n",
    "\n",
    "dT_dt_long = np.array(dT_dt_long)\n",
    "\n",
    "T_out = 46.7\n",
    "l = 0.0027\n",
    "cw = 4.184\n",
    "mw = 350\n",
    "r = 0.03\n",
    "h = 0.103\n",
    "\n",
    "H = mw * cw * dT_dt_long\n",
    "\n",
    "K = [mw * cw * (dT_dt_long) * l/((2 * np.pi * r * h + np.pi * r**2) * (T_out - temperature_long))]\n",
    "\n",
    "\n",
    "print(f\"Heat flow: {np.mean(H)}\")\n",
    "print(f\"Thermal Conductivity: {np.mean(K)}\")"
   ]
  },
  {
   "cell_type": "code",
   "execution_count": null,
   "metadata": {},
   "outputs": [],
   "source": [
    "K_model = \"(m*c*d*l) / ((2*π*r*h + π * r ** 2) * (TO - TI))\"\n",
    "K_vars = [\"m\", \"c\", \"d\", \"l\", \"r\", \"h\", \"TO\", \"TI\"]\n",
    "\n",
    "m_err = np.full(len(dT_dt_short), 1)\n",
    "l_err = np.full(len(dT_dt_short), 0.01)\n",
    "r_err = np.full(len(dT_dt_short), 0.01)\n",
    "h_err = np.full(len(dT_dt_short), 0.01)\n",
    "d_err = np.full(len(dT_dt_short), 0.01)\n",
    "TO_err = np.full(len(dT_dt_short), 0.1)\n",
    "TI_err = np.full(len(dT_dt_short), 0.1)\n",
    "\n",
    "mw = np.full(len(dT_dt_short), mw)\n",
    "cw = np.full(len(dT_dt_short), cw)\n",
    "l = np.full(len(dT_dt_short), l)\n",
    "r = np.full(len(dT_dt_short), r)\n",
    "h = np.full(len(dT_dt_short), h)\n",
    "T_out = np.full(len(dT_dt_short), T_out)\n",
    "\n",
    "K, K_err = au.calculate_derived_value(K_model, K_vars, [\"π\", \"c\"], np.array([3.141, 4.184]), [mw, cw, dT_dt_short, l, r, h, T_out, temperature_short], [m_err, d_err, l_err, r_err, h_err, TO_err, TI_err], True)\n",
    "au.print_dataset(\"Heat Conductivity \", K, K_err, 5) # 5 is the precision\n",
    "\n",
    "au.get_error_propagation()"
   ]
  },
  {
   "cell_type": "code",
   "execution_count": null,
   "metadata": {},
   "outputs": [],
   "source": [
    "time_can_short, temperature_can_short = np.loadtxt('short_can.csv', delimiter = \",\", skiprows = 1, usecols=(0, 1), unpack = True)\n",
    "\n",
    "time_can_long, temperature_can_long = np.loadtxt('long_can.csv', delimiter = ',', skiprows = 1, usecols = (0, 1), unpack= True)\n",
    "\n"
   ]
  },
  {
   "cell_type": "code",
   "execution_count": 35,
   "metadata": {},
   "outputs": [
    {
     "data": {
      "image/png": "[encoded data removed]",
      "text/plain": [
       "<Figure size 720x288 with 2 Axes>"
      ]
     },
     "metadata": {
      "needs_background": "light"
     },
     "output_type": "display_data"
    }
   ],
   "source": [
    "fig2, axes = plt.subplots(1, 2)\n",
    "fig2.set_figwidth(10, 15)\n",
    "\n",
    "axes[0].scatter(time_can_short, temperature_can_short, s = 0.5)\n",
    "axes[0].set_title(\"Temperature vs. Time, short trial\")\n",
    "axes[0].set_xlabel(\"Time (s)\")\n",
    "axes[0].set_ylabel(\"Temperature ($^\\circ$C)\")\n",
    "\n",
    "axes[1].scatter(time_can_long, temperature_can_long, s = 0.5) \n",
    "axes[1].set_title(\"Temperature vs. Time, long trial\")\n",
    "axes[1].set_xlabel(\"Time (s)\")\n",
    "axes[1].set_ylabel(\"Temperature ($^\\circ$C)\")\n",
    "\n",
    "plt.show()"
   ]
  },
  {
   "cell_type": "code",
   "execution_count": 26,
   "metadata": {},
   "outputs": [],
   "source": [
    "temp_difference_short = 46.7 - temperature_can_short\n",
    "temp_difference_long = 46.7 - temperature_can_long\n",
    "\n",
    "# dT/dt for long trial \n",
    "dT_dt_can_long = [(temperature_can_long[i+1] - temperature_can_long[i-1])/(time_can_long[i+1] - time_can_long[i-1]) for i in range(1, len(temperature_can_long)-1)]\n",
    "\n",
    "dT_dt_can_long = [(temperature_can_long[1] - temperature_can_long[0])/(time_can_long[1]-time_can_long[0])] + dT_dt_can_long\n",
    "dT_dt_can_long += [(temperature_can_long[-1] - temperature_can_long[-2])/(time_can_long[-1] - time_can_long[-2])]\n",
    "\n",
    "dT_dt_can_long = np.array(dT_dt_can_long)\n",
    "\n",
    "\n",
    "# dT/dt for short trial\n",
    "dT_dt_can_short= [(temperature_can_short[i+1] - temperature_can_short[i-1])/(time_can_short[i+1] - time_can_short[i-1]) for i in range(1, len(temperature_can_short)-1)]\n",
    "\n",
    "dT_dt_can_short = [(temperature_can_short[1] - temperature_can_short[0])/(temperature_can_short[1]-time_can_short[0])] + dT_dt_can_short\n",
    "dT_dt_can_short += [(temperature_can_short[-1] - temperature_can_short[-2])/(time_can_short[-1] - time_can_short[-2])]\n",
    "\n",
    "dT_dt_can_short = np.array(dT_dt_can_short)\n",
    "\n",
    "H_short = mw * cw * dT_dt_can_short\n",
    "H_long = mw * cw * dT_dt_can_long "
   ]
  },
  {
   "cell_type": "code",
   "execution_count": 36,
   "metadata": {},
   "outputs": [
    {
     "data": {
      "image/png": "[encoded data removed]",
      "text/plain": [
       "<Figure size 432x288 with 1 Axes>"
      ]
     },
     "metadata": {
      "needs_background": "light"
     },
     "output_type": "display_data"
    },
    {
     "name": "stdout",
     "output_type": "stream",
     "text": [
      "8.1008757357\n"
     ]
    }
   ],
   "source": [
    "plt.scatter(temp_difference_short, H_short, c = 'b', s = 0.5, label= 'short trial')\n",
    "plt.scatter(temp_difference_long, H_long, c = 'r', s = 0.5, label ='Long trial')\n",
    "plt.xlabel(\"Temperature difference\")\n",
    "plt.ylabel(\"Heat flow\")\n",
    "plt.title(\"Heat flow vs. Temperature Difference\")\n",
    "plt.legend()\n",
    "plt.show()\n",
    "print(min(temp_difference_short))"
   ]
  },
  {
   "cell_type": "code",
   "execution_count": null,
   "metadata": {},
   "outputs": [],
   "source": []
  }
 ],
 "metadata": {
  "kernelspec": {
   "display_name": "Python 3 (ipykernel)",
   "language": "python",
   "name": "python3"
  },
  "language_info": {
   "codemirror_mode": {
    "name": "ipython",
    "version": 3
   },
   "file_extension": ".py",
   "mimetype": "text/x-python",
   "name": "python",
   "nbconvert_exporter": "python",
   "pygments_lexer": "ipython3",
   "version": "3.9.7"
  },
  "vscode": {
   "interpreter": {
    "hash": "5f8929016d30f12a89eab5b5e02a6c1410fc73da4b23b89b4eb7a3bc58137fe5"
   }
  }
 },
 "nbformat": 4,
 "nbformat_minor": 2
}

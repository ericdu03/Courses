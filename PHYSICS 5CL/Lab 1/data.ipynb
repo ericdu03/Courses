{
 "cells": [
  {
   "cell_type": "code",
   "execution_count": 13,
   "metadata": {},
   "outputs": [],
   "source": [
    "import numpy as np\n",
    "import matplotlib as mpl\n",
    "import matplotlib.pyplot as plt"
   ]
  },
  {
   "cell_type": "markdown",
   "metadata": {},
   "source": [
    "# Experiment 1: Multi lens setups\n",
    "\n",
    "## Experiment 1.1: calculating the focal length of all lenses"
   ]
  },
  {
   "cell_type": "code",
   "execution_count": 14,
   "metadata": {},
   "outputs": [
    {
     "name": "stdout",
     "output_type": "stream",
     "text": [
      "Mean focal length of A: 17.557790404548594\n",
      "Mean focal length of B: 15.255039467753173\n",
      "Mean focal length of C: 5.322589885115263\n"
     ]
    }
   ],
   "source": [
    "\n",
    "focal_length = lambda o, i: (o*i) / (o + i)\n",
    "\n",
    "po = 23.5\n",
    "pos_lensA = [58.4, 63.3, 61.5, 54.6, 60.2, 56.1]\n",
    "pos_imageA = [93.2, 95, 94.5, 95, 93.4, 94.4]\n",
    "pos_lensB = [45.4, 49.6, 60.4, 46.6, 68.6, 60.7]\n",
    "pos_imageB = [94.8, 86.1, 86.1, 92.5, 91.8, 86.7]\n",
    "pos_lensC = [43, 37.4, 50.6, 62.2, 77, 87.8]\n",
    "pos_imageC =[44.5, 45.7, 57.7, 68.5, 83.1, 93.1]\n",
    "\n",
    "\n",
    "f_A = [focal_length(pos_lensA[i] - po, pos_imageA[i] - pos_lensA[i])for i in range(len(pos_lensA))]\n",
    "f_B = [focal_length(pos_lensB[i] - po, pos_imageB[i] - pos_lensB[i])for i in range(len(pos_lensB))]\n",
    "f_C = [focal_length(pos_lensC[i] - po, pos_imageC[i] - pos_lensC[i])for i in range(1, len(pos_lensC))]\n",
    "\n",
    "print(f\"Mean focal length of A: {np.mean(f_A)}\")\n",
    "print(f\"Mean focal length of B: {np.mean(f_B)}\")\n",
    "print(f\"Mean focal length of C: {np.mean(f_C)}\")\n",
    "\n",
    "# print(f\"Average focal length of C {np.mean(f_C[1:len(pos_lensC)])}\")\n",
    "\n",
    "    "
   ]
  },
  {
   "cell_type": "code",
   "execution_count": 26,
   "metadata": {},
   "outputs": [
    {
     "name": "stdout",
     "output_type": "stream",
     "text": [
      "0.18057861050778257\n",
      "0.21252833470092627\n",
      "0.3589220517782566\n"
     ]
    }
   ],
   "source": [
    "error = 0.5\n",
    "\n",
    "doA = [pos_lensA[i] - po for i in range(len(pos_lensA))]\n",
    "diA = [pos_imageA[i] - pos_lensA[i] for i in range(len(pos_lensA))]\n",
    "\n",
    "doB = [pos_lensB[i] - po for i in range(len(pos_lensB))]\n",
    "diB = [pos_imageB[i] - pos_lensB[i] for i in range(len(pos_lensB))]\n",
    "\n",
    "\n",
    "doC = [pos_lensC[i] - po for i in range(len(pos_lensC))]\n",
    "diC = [pos_imageC[i] - pos_lensC[i] for i in range(len(pos_lensC))]\n",
    "\n",
    "\n",
    "def errorF (do, di, alphadi, alphado):\n",
    "    return [((((do[i]*(di[i] + do[i]) - do[i]*di[i])/(di[i] + do[i])**2)*alphadi)**2 +  (((di[i]*(di[i] + do[i]) - di[i]*do[i])/(di[i] + do[i])**2)*alphado)**2)**(1/2) for i in range(len(do))]\n",
    "\n",
    "alpha_fA = errorF(doA, diA, error, error)\n",
    "alpha_fB = errorF(doB, diB, error, error)\n",
    "alpha_fC = errorF(doC, diC, error, error)\n",
    "\n",
    "\n",
    "print(np.mean(alpha_fA))\n",
    "print(np.mean(alpha_fB))\n",
    "print(np.mean(alpha_fC))"
   ]
  },
  {
   "cell_type": "markdown",
   "metadata": {},
   "source": [
    "Second half: recording object and image distances and heights, computing magnification"
   ]
  },
  {
   "cell_type": "code",
   "execution_count": 21,
   "metadata": {},
   "outputs": [
    {
     "name": "stdout",
     "output_type": "stream",
     "text": [
      "Magnification -1.0392156862745097\n",
      "Mangification using image and object heights: 1.04\n"
     ]
    }
   ],
   "source": [
    "obj_pos = 33.4\n",
    "lens_pos = 44\n",
    "image_pos = 54.2\n",
    "obj_height = 1.50\n",
    "img_height = 1.56\n",
    "\n",
    "do = image_pos - lens_pos\n",
    "di = lens_pos - obj_pos\n",
    "\n",
    "\n",
    "print(f\"Magnification {-di/do}\")\n",
    "print(f\"Mangification using image and object heights: {img_height/obj_height}\")\n"
   ]
  },
  {
   "cell_type": "code",
   "execution_count": 23,
   "metadata": {},
   "outputs": [
    {
     "name": "stdout",
     "output_type": "stream",
     "text": [
      "0.06176658571680251\n",
      "0.05219149668316142\n"
     ]
    }
   ],
   "source": [
    "def magerror (ho, hi, alphaho, alphahi):\n",
    "    return ((alphahi/ho)**2 + (hi/ho * alphaho)**2)**(1/2)\n",
    "\n",
    "\n",
    "print(magerror(obj_height, img_height, 0.05, 0.05))\n",
    "\n",
    "print(magerror(do, di, 0.05, 0.05))"
   ]
  },
  {
   "cell_type": "code",
   "execution_count": 31,
   "metadata": {},
   "outputs": [
    {
     "name": "stdout",
     "output_type": "stream",
     "text": [
      "-23.616494845360826\n",
      "[1.479453231224338]\n"
     ]
    }
   ],
   "source": [
    "print(focal_length(-13.8, 33.2))\n",
    "\n",
    "object_distance = [-13.8]\n",
    "image_distance = [33.3]\n",
    "\n",
    "print(errorF(object_distance, image_distance, error, error))"
   ]
  },
  {
   "cell_type": "markdown",
   "metadata": {},
   "source": [
    "## Experiment 1.3"
   ]
  },
  {
   "cell_type": "code",
   "execution_count": 53,
   "metadata": {},
   "outputs": [
    {
     "name": "stdout",
     "output_type": "stream",
     "text": [
      "24.1\n",
      "12.552051683471815\n"
     ]
    }
   ],
   "source": [
    "lensA_pos = [58.9, 63.2, 51, 35.5, 34.1, 62.1]\n",
    "image_pos = [83, 86.6, 76.5, 65, 62.7, 85.7]\n",
    "object_pos = 17.2\n",
    "lensB_pos = 27.9\n",
    "\n",
    "imgB_dist = [image_pos[i] - lensA_pos[i] for i in range(len(image_pos))]\n",
    "lens_dist = [abs(lensB_pos - lensA_pos[i]) for i in range(len(lensA_pos))]\n",
    "objA_dist = abs(object_pos - lensB_pos)\n",
    "\n",
    "print(imgB_dist[0])\n",
    "\n",
    "fuck = lambda di, f: (di * f)/(di - f)\n",
    "\n",
    "doA2 = [fuck(imgB_dist[i], 17.55) for i in range(len(imgB_dist))]\n",
    "f_B2 = [focal_length((lensB_pos - lensA_pos[i]) - doA2[i], objA_dist) for i in range(len(doA2))]\n",
    "\n",
    "print(np.mean(f_B2))"
   ]
  },
  {
   "cell_type": "code",
   "execution_count": 57,
   "metadata": {},
   "outputs": [
    {
     "name": "stdout",
     "output_type": "stream",
     "text": [
      "2.83885470933302\n"
     ]
    }
   ],
   "source": [
    "def errorI(di, f, errordi, errorf):\n",
    "    return ((((f*(f - di) + di * f)/(f - di)**2)*errordi)**2 + (((di*(f - di) - di * f)/(f - di)**2) * errorf)**2)**(1/2)\n",
    "\n",
    "\n",
    "errors = [errorI(imgB_dist[i], 17.55, 0.05, 0.18) for i in range(len(imgB_dist))]\n",
    "\n",
    "alphaS = np.sqrt(2)*0.05\n",
    "\n",
    "alphaDOB = np.sqrt(alphaS**2 + np.mean(errors)**2)\n",
    "\n",
    "def errorF2 (do, di, alphadi, alphado):\n",
    "    return ((((do*(di + do) - do*di)/(di + do)**2)*alphadi)**2 +  (((di*(di + do) - di*do)/(di + do)**2)*alphado)**2)**(1/2)\n",
    "\n",
    "alphaF = [errorF2(objA_dist, (lensB_pos - lensA_pos[i]) - doA2[i], np.sqrt(2)*0.05, alphaDOB) for i in range(len(lensA_pos))]\n",
    "\n",
    "print(np.mean(alphaF))"
   ]
  },
  {
   "cell_type": "markdown",
   "metadata": {},
   "source": [
    "# Experiment 3: Diverging Lens"
   ]
  },
  {
   "cell_type": "code",
   "execution_count": 18,
   "metadata": {},
   "outputs": [
    {
     "name": "stdout",
     "output_type": "stream",
     "text": [
      "[-14.832003192614406, -15.340532827281, -16.147464136925457, -3.3688456692354927, 4.196742793822801, 7.72805226129041]\n",
      "Mean 4.7159109531549115\n",
      "Standard Deviation 0.6871376133036786\n",
      "Total mean: 9.708374803061874\n",
      "Total std: 5.192235315190428\n"
     ]
    }
   ],
   "source": [
    "obj_pos = 16.6\n",
    "div_lens_pos = [30.7, 25.1, 43.3, 43.2, 43.2, 43.2]\n",
    "con_lens_pos = [38, 33.1, 51, 66.1, 79.8, 88.4]\n",
    "# obj_div_distance = [14.1, 25.1, 43.3, 43.2, 43.2, 43.2]\n",
    "# con_img_distance = [8.4, 8.8, 7.6, 6.7, 6.4, 6.3]\n",
    "# div_img_distnance = [15.7, 16.8, 15.3, 29.6, 43, 51.5]\n",
    "img_pos = [46.4, 41.9, 58.6, 72.8, 86.2, 94.7]\n",
    "err = 0.05\n",
    "\n",
    "object_div_dist = []\n",
    "con_img_dist = []\n",
    "div_img_dist = []\n",
    "div_con_dist = []\n",
    "for i in range(len(div_lens_pos)): \n",
    "    object_div_dist += [div_lens_pos[i] - obj_pos]\n",
    "    con_img_dist += [img_pos[i] - con_lens_pos[i]]\n",
    "    div_img_dist += [img_pos[i] - div_lens_pos[i]]\n",
    "    div_con_dist += [con_lens_pos[i] - div_lens_pos[i]]\n",
    "\n",
    "\n",
    "image_distance = lambda di, f: (di * f)/(di - f)\n",
    "\n",
    "\n",
    "# print(np.mean(f_C)/10)\n",
    "# print(div_con_dist)\n",
    "\n",
    "di = [-(image_distance(con_img_dist[i], np.mean(f_C)/10)- div_con_dist[i]) for i in range(len(div_img_dist))]\n",
    "# print(di[0])\n",
    "\n",
    "focal = [focal_length(object_div_dist[i], di[i]) for i in range(len(object_div_dist))]\n",
    "print(f)\n",
    "\n",
    "print(f\"Mean {np.mean(focal[0:3])}\")\n",
    "print(f\"Standard Deviation {np.std(focal[0:3])}\")\n",
    "\n",
    "print(f\"Total mean: {np.mean(focal)}\")\n",
    "print(f\"Total std: {np.std(focal)}\")\n",
    "# print(di)"
   ]
  },
  {
   "cell_type": "markdown",
   "metadata": {},
   "source": [
    "Is this error systematic or random?"
   ]
  },
  {
   "cell_type": "markdown",
   "metadata": {},
   "source": [
    "## 3.2: Radius of Curvature\n",
    "\n",
    "Optical power is given by \n",
    "\n",
    "$$ "
   ]
  },
  {
   "cell_type": "code",
   "execution_count": 59,
   "metadata": {},
   "outputs": [
    {
     "name": "stdout",
     "output_type": "stream",
     "text": [
      "0.17894413404254342\n"
     ]
    }
   ],
   "source": [
    "dnp = 8.7\n",
    "fob = 15.2\n",
    "s = 17\n",
    "fep = 4.6\n",
    "\n",
    "alphadnp = 0.05\n",
    "alphafob = 0.21\n",
    "alphas = np.sqrt((np.sqrt(2) * 0.05)**2 + 0.21**2 + 0.35**2)\n",
    "alphafep = 0.35\n",
    "\n",
    "\n",
    "alpham = ((dnp/(fob*fep) * alphas)**2 + (s/(fob*fep) * alphafob)**2 + ((s * dnp)/(fob**2 * fep) * alphafob)**2 + ((s * dnp)/(fob * fep**2) * alphafep)**2)**(1/2)\n",
    "print(alpham)"
   ]
  }
 ],
 "metadata": {
  "kernelspec": {
   "display_name": "Python 3.9.7 ('base')",
   "language": "python",
   "name": "python3"
  },
  "language_info": {
   "codemirror_mode": {
    "name": "ipython",
    "version": 3
   },
   "file_extension": ".py",
   "mimetype": "text/x-python",
   "name": "python",
   "nbconvert_exporter": "python",
   "pygments_lexer": "ipython3",
   "version": "3.9.7"
  },
  "orig_nbformat": 4,
  "vscode": {
   "interpreter": {
    "hash": "5f8929016d30f12a89eab5b5e02a6c1410fc73da4b23b89b4eb7a3bc58137fe5"
   }
  }
 },
 "nbformat": 4,
 "nbformat_minor": 2
}

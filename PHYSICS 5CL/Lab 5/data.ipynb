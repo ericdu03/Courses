{
 "cells": [
  {
   "cell_type": "code",
   "execution_count": 2,
   "metadata": {},
   "outputs": [],
   "source": [
    "import numpy as np\n",
    "import matplotlib.pyplot as plt\n",
    "import scipy.optimize as opt\n",
    "from scipy.interpolate import interp1d\n",
    "np.set_printoptions(threshold=np.inf)\n",
    "\n"
   ]
  },
  {
   "cell_type": "code",
   "execution_count": 3,
   "metadata": {},
   "outputs": [],
   "source": [
    "def wavelength_calc( d , distance, L) -> float: \n",
    "    return d * np.sin(np.arctan(distance/L))"
   ]
  },
  {
   "cell_type": "code",
   "execution_count": 4,
   "metadata": {},
   "outputs": [
    {
     "name": "stdout",
     "output_type": "stream",
     "text": [
      "[3.98062960e-07 4.23446506e-07 4.77111629e-07 6.44527596e-07] \n",
      "\n",
      "[4.27055626e-07 4.73566262e-07 6.54346681e-07]\n"
     ]
    }
   ],
   "source": [
    "left_distance = np.array([10.5,\n",
    "11.2,\n",
    "12.7,\n",
    "17.6\n",
    "])*10**(-2)\n",
    "\n",
    "right_distance = np.array([11.3,\n",
    "12.6,\n",
    "17.9])*10**(-2)\n",
    "\n",
    "length = 51.7 * 10**(-2)\n",
    "d = 0.01/5000\n",
    "\n",
    "lambdaleft = wavelength_calc(d, left_distance, length)\n",
    "lambdaright = wavelength_calc(d, right_distance, length)\n",
    "\n",
    "# lambdaleft = [d * np.sin(np.arctan(left_distance[i]/length)) for i in range(len(left_distance))]\n",
    "# lambdaright = [d * np.sin(np.arctan(right_distance[i]/length)) for i in range(len(right_distance))]\n",
    "\n",
    "print(f\"{lambdaleft} \\n\")\n",
    "\n",
    "print(lambdaright)\n"
   ]
  },
  {
   "cell_type": "code",
   "execution_count": 5,
   "metadata": {},
   "outputs": [
    {
     "data": {
      "text/plain": [
       "[]"
      ]
     },
     "execution_count": 5,
     "metadata": {},
     "output_type": "execute_result"
    },
    {
     "data": {
      "image/png": "[encoded data removed]",
      "text/plain": [
       "<Figure size 1080x288 with 2 Axes>"
      ]
     },
     "metadata": {
      "needs_background": "light"
     },
     "output_type": "display_data"
    }
   ],
   "source": [
    "# plt.figure(figsize=(7, 1))\n",
    "# plt.vlines(lambdaleft*10**9, 0, 1)\n",
    "# plt.yticks([])\n",
    "# plt.xlabel(\"Wavelength (Left)\")\n",
    "# plt.show()\n",
    "\n",
    "# plt.figure(figsize=(7, 1))\n",
    "# plt.vlines(lambdaright*10**9, 0, 1)\n",
    "# plt.yticks([])\n",
    "# plt.xlabel(\"Wavelength (Right)\")\n",
    "# plt.show()\n",
    "\n",
    "\n",
    "fig, axes = plt.subplots(2, sharex=True)\n",
    "axes[0].vlines(lambdaleft*10**9, 0, 1)\n",
    "fig.set_figwidth(15)\n",
    "\n",
    "axes[0].set_title(\"Left spectra\")\n",
    "axes[1].vlines(lambdaright*10**9, 0, 1)\n",
    "axes[1].set_title(\"Right spectra\")\n",
    "axes[1].set_xlabel(\"Wavelength\")\n",
    "axes[1].set_yticks([])\n",
    "axes[0].set_yticks([])"
   ]
  },
  {
   "cell_type": "code",
   "execution_count": 6,
   "metadata": {},
   "outputs": [
    {
     "name": "stdout",
     "output_type": "stream",
     "text": [
      "[398.06296005 423.4465064  477.11162904 644.52759561]\n",
      "[427.05562603 473.566262   654.34668084]\n"
     ]
    }
   ],
   "source": [
    "print(lambdaleft * 10**9)\n",
    "print(lambdaright * 10**9)"
   ]
  },
  {
   "cell_type": "markdown",
   "metadata": {},
   "source": [
    "# Experiment 3: Mystery Tube"
   ]
  },
  {
   "cell_type": "code",
   "execution_count": 7,
   "metadata": {},
   "outputs": [
    {
     "data": {
      "text/plain": [
       "[]"
      ]
     },
     "execution_count": 7,
     "metadata": {},
     "output_type": "execute_result"
    },
    {
     "data": {
      "image/png": "[encoded data removed]",
      "text/plain": [
       "<Figure size 1080x288 with 2 Axes>"
      ]
     },
     "metadata": {
      "needs_background": "light"
     },
     "output_type": "display_data"
    }
   ],
   "source": [
    "left_distanceA = np.array([11.9, 12.1, 12.9, 14.9, 16.1, 16.2, 17.6, 19.6, 19.8])\n",
    "right_distanceA = np.array([12.1, 12.3, 13.1, 15.3, 16.1, 16.2, 18.1, 20.8, 21.1])\n",
    "\n",
    "lengthA = 55.9\n",
    "d = 0.01/5000\n",
    "lambdaleftA = wavelength_calc(d, left_distanceA, lengthA)\n",
    "lambdarightA = wavelength_calc(d, right_distanceA, lengthA)\n",
    "\n",
    "fig, axes = plt.subplots(2, sharex=True)\n",
    "axes[0].vlines(lambdaleftA*10**9, 0, 1)\n",
    "fig.set_figwidth(15)\n",
    "\n",
    "axes[0].set_title(\"Left spectra\")\n",
    "axes[1].vlines(lambdarightA*10**9, 0, 1)\n",
    "axes[1].set_title(\"Right spectra\")\n",
    "axes[1].set_xlabel(\"Wavelength\")\n",
    "axes[1].set_yticks([])\n",
    "axes[0].set_yticks([])"
   ]
  },
  {
   "cell_type": "code",
   "execution_count": 8,
   "metadata": {},
   "outputs": [
    {
     "data": {
      "image/png": "[encoded data removed]",
      "text/plain": [
       "<Figure size 1080x144 with 1 Axes>"
      ]
     },
     "metadata": {
      "needs_background": "light"
     },
     "output_type": "display_data"
    }
   ],
   "source": [
    "lambda_avgA = (lambdaleftA + lambdarightA)/2\n",
    "\n",
    "plt.rcParams['figure.figsize'] = (15, 2)\n",
    "plt.vlines(lambda_avgA*10**9, 0, 1)\n",
    "plt.yticks([])\n",
    "plt.xlabel(\"Wavelength (nm)\")\n",
    "plt.show()"
   ]
  },
  {
   "cell_type": "code",
   "execution_count": 10,
   "metadata": {},
   "outputs": [
    {
     "data": {
      "image/png": "[encoded data removed]",
      "text/plain": [
       "<Figure size 1080x144 with 1 Axes>"
      ]
     },
     "metadata": {
      "needs_background": "light"
     },
     "output_type": "display_data"
    }
   ],
   "source": [
    "left_distanceB = np.array([15.6, 15.7,\n",
    "17.1, 17.4,\n",
    "18.0, 18.1,\n",
    "18.7, 18.8, 18.9, 19.0,\n",
    "19.5, 19.7, 19.9, 20])\n",
    "\n",
    "\n",
    "lengthB = 55.9\n",
    "\n",
    "lambdaleftB = wavelength_calc(d, left_distanceB, lengthB)\n",
    "\n",
    "plt.rcParams['figure.figsize'] = (15, 2)\n",
    "plt.vlines(lambdaleftB*10**9, 0, 1)\n",
    "plt.yticks([])\n",
    "plt.xlabel(\"Wavelength (nm)\")\n",
    "plt.show()"
   ]
  },
  {
   "cell_type": "code",
   "execution_count": null,
   "metadata": {},
   "outputs": [],
   "source": []
  }
 ],
 "metadata": {
  "kernelspec": {
   "display_name": "Python 3.9.7 ('base')",
   "language": "python",
   "name": "python3"
  },
  "language_info": {
   "codemirror_mode": {
    "name": "ipython",
    "version": 3
   },
   "file_extension": ".py",
   "mimetype": "text/x-python",
   "name": "python",
   "nbconvert_exporter": "python",
   "pygments_lexer": "ipython3",
   "version": "3.9.7"
  },
  "orig_nbformat": 4,
  "vscode": {
   "interpreter": {
    "hash": "5f8929016d30f12a89eab5b5e02a6c1410fc73da4b23b89b4eb7a3bc58137fe5"
   }
  }
 },
 "nbformat": 4,
 "nbformat_minor": 2
}

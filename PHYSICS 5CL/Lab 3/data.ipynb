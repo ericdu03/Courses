{
 "cells": [
  {
   "cell_type": "code",
   "execution_count": 16,
   "metadata": {},
   "outputs": [],
   "source": [
    "import numpy as np\n",
    "import matplotlib as mpl\n",
    "import matplotlib.pyplot as plt\n",
    "import scipy as sci\n",
    "import scipy.optimize as opt\n",
    "from scipy.interpolate import interp1d\n",
    "np.set_printoptions(threshold=np.inf)"
   ]
  },
  {
   "cell_type": "markdown",
   "metadata": {},
   "source": [
    "# Experiment 1: Diffraction"
   ]
  },
  {
   "cell_type": "code",
   "execution_count": 17,
   "metadata": {},
   "outputs": [
    {
     "name": "stdout",
     "output_type": "stream",
     "text": [
      "[0.2, 0.1625, 0.16666666666666666, 0.175]\n",
      "0.16875\n"
     ]
    }
   ],
   "source": [
    "fringe_distance = [0.4, 0.65, 1, 1.4]\n",
    "a = [fringe_distance[i] /(2* (i+1)) for i in range(len(fringe_distance))]\n",
    "\n",
    "print(a)\n",
    "\n",
    "print(2.7/16)"
   ]
  },
  {
   "cell_type": "code",
   "execution_count": null,
   "metadata": {},
   "outputs": [],
   "source": []
  },
  {
   "cell_type": "code",
   "execution_count": 18,
   "metadata": {},
   "outputs": [
    {
     "data": {
      "text/plain": [
       "0.05254486956521739"
      ]
     },
     "execution_count": 18,
     "metadata": {},
     "output_type": "execute_result"
    }
   ],
   "source": [
    "1.22 * 6.35 * 10**(-5) * 78/(0.23/2)    "
   ]
  },
  {
   "cell_type": "code",
   "execution_count": 19,
   "metadata": {},
   "outputs": [
    {
     "name": "stdout",
     "output_type": "stream",
     "text": [
      "0.03758259259259259\n"
     ]
    }
   ],
   "source": [
    "l = 79.9\n",
    "m = 4\n",
    "d = 1.08\n",
    "wavelength = 6.35*10**(-5)\n",
    "\n",
    "print(2* m * wavelength * l/d)"
   ]
  },
  {
   "cell_type": "markdown",
   "metadata": {},
   "source": [
    "# Experiment 2: Circular Aperture"
   ]
  },
  {
   "cell_type": "code",
   "execution_count": 20,
   "metadata": {},
   "outputs": [
    {
     "name": "stdout",
     "output_type": "stream",
     "text": [
      "[0.052530570077220035, 0.058213469427922986, 0.05011261614036946, 0.05317973943670672]\n"
     ]
    }
   ],
   "source": [
    "m = [1, 2, 3, 4]\n",
    "d = [0.23, 0.38, 0.64,0.79]\n",
    "beta = [3.8317, 7.0155, 10.17135, 13.3237]\n",
    "lengtherr = 0.1 \n",
    "derr = 0.01\n",
    "\n",
    "7.015 * 6.35 * 10**(-5) * 78/(0.38/2 * np.pi)\n",
    "\n",
    "aperture = [beta[i] * 6.35 * 10**(-5) * 78/(d[i]/2 * np.pi) for i in range(len(beta))]\n",
    "print(aperture)"
   ]
  },
  {
   "cell_type": "code",
   "execution_count": 29,
   "metadata": {},
   "outputs": [
    {
     "name": "stdout",
     "output_type": "stream",
     "text": [
      "[0.004568372099331292, 0.0030647756646385808, 0.001567336586344216, 0.001348047743122822]\n"
     ]
    }
   ],
   "source": [
    "lengtherr = 0.1 \n",
    "derr = 0.01\n",
    "\n",
    "aperture_err = [aperture[i]/78 * np.sqrt((78**2/(d[i]/2)**2) * derr**2 + lengtherr**2) for i in range(len(d))]\n",
    "print(aperture_err)"
   ]
  },
  {
   "cell_type": "code",
   "execution_count": 22,
   "metadata": {},
   "outputs": [
    {
     "name": "stdout",
     "output_type": "stream",
     "text": [
      "constant value: [0.0535091] ± [0.0017013]\n"
     ]
    }
   ],
   "source": [
    "def constant(x, c): \n",
    "    return c\n",
    "\n",
    "optimize, cov = opt.curve_fit(constant, m, aperture)\n",
    "dango = optimize\n",
    "dc = np.sqrt(np.diag(cov))\n",
    "\n",
    "print(f\"constant value: {dango} \\u00b1 {dc}\")"
   ]
  },
  {
   "cell_type": "code",
   "execution_count": 23,
   "metadata": {},
   "outputs": [
    {
     "data": {
      "image/png": "[encoded data removed]",
      "text/plain": [
       "<Figure size 432x288 with 1 Axes>"
      ]
     },
     "metadata": {
      "needs_background": "light"
     },
     "output_type": "display_data"
    }
   ],
   "source": [
    "const = [dango]*4\n",
    "plt.scatter(m, aperture, c = 'r', label=\"fitted values\")\n",
    "plt.plot(m, const, c = 'b', label=\"Experimentally verified values\")\n",
    "plt.xlabel(\"Diffraction order (m)\")\n",
    "plt.ylabel(\"Aperture distance\")\n",
    "plt.title(\"Diffraction order vs. determined aperture distance\")\n",
    "plt.show()"
   ]
  },
  {
   "cell_type": "markdown",
   "metadata": {},
   "source": [
    "# Experiment 3: Varying the Slit Width"
   ]
  },
  {
   "cell_type": "code",
   "execution_count": 36,
   "metadata": {},
   "outputs": [
    {
     "name": "stdout",
     "output_type": "stream",
     "text": [
      "slit 3 width 0.03933541327660617\n",
      "slit 4 width 0.021917007108788966\n",
      "slit 5 width 0.012895527083333334\n"
     ]
    }
   ],
   "source": [
    "m = np.linspace(2, 6, 5)\n",
    "\n",
    "distance_3 = [0.44, 0.70, 1.09,1.44,1.76]\n",
    "distance_4 = [0.95, 1.40, 1.80 , 2.32, 2.76]\n",
    "distance_5 = [1.60, 2.4, 3.0, 4.0] #Distance 5 is shorter \n",
    "\n",
    "a3 = [2*m[i] * 79.9 * 6.35 * 10**(-5)/(distance_3[i]) for i in range(len(m))]\n",
    "a4 = [2*m[i] * 79.9 * 6.35 * 10**(-5)/(distance_4[i]) for i in range(len(m))]\n",
    "a5 = [2*m[i] * 79.9 * 6.35 * 10**(-5)/(distance_5[i]) for i in range(len(m)-1)]\n",
    "\n",
    "print(f\"slit 3 width {np.mean(a3)}\")\n",
    "print(f\"slit 4 width {np.mean(a4)}\")\n",
    "print(f\"slit 5 width {np.mean(a5)}\")"
   ]
  },
  {
   "cell_type": "code",
   "execution_count": 47,
   "metadata": {},
   "outputs": [
    {
     "name": "stdout",
     "output_type": "stream",
     "text": [
      "slit 3 err 0.00033323860008637395\n",
      "slit 4 err 3.398254618671915e-05\n",
      "slit 5 err 9.497679014756948e-05\n"
     ]
    }
   ],
   "source": [
    "d3err = [0.05] + [0.1]*4\n",
    "d4err = [0.05]*5\n",
    "d5err = [0.05, 0.1, 0.2, 0.2]\n",
    "\n",
    "a3err = [2*m[i] * 79.9 * 6.35 * 10**(-5)/(distance_3[i])**2 * d3err[i] for i in range(len(m))]\n",
    "a4err = [2*m[i] * 79.9 * 6.35 * 10**(-5)/(distance_4[i])**2 * d4err[i] for i in range(len(m))]\n",
    "a5err = [2*m[i] * 79.9 * 6.35 * 10**(-5)/(distance_5[i])**2 * d5err[i] for i in range(len(m)-1)]\n",
    "\n",
    "print(f\"slit 3 err {np.mean(a3err)}\")\n",
    "print(f\"slit 4 err {np.mean(a4err)}\")\n",
    "print(f\"slit 5 err {np.mean(a5err)}\")"
   ]
  },
  {
   "cell_type": "code",
   "execution_count": 41,
   "metadata": {},
   "outputs": [
    {
     "name": "stdout",
     "output_type": "stream",
     "text": [
      "residual 3 [0.00011414979855371912, 6.477720246938791e-05, 3.232078242572176e-06, 4.2567713155863604e-08, 7.172935046487569e-07]\n",
      "residual 4 [1.4369685806094211e-05, 1.74073720459184e-05, 2.4776059308642e-05, 1.846576484311833e-05, 2.013629051228738e-05]\n",
      "residual 5 [1.5195378515625005e-05, 1.5195378515625018e-05, 2.250300593777779e-05, 1.5195378515625005e-05]\n"
     ]
    }
   ],
   "source": [
    "residual3 = [(a3[i] - 0.03544)**2 for i in range(len(m))]\n",
    "residual4 = [(a4[i] - 0.017572)**2 for i in range(len(m))]\n",
    "residual5 = [(a5[i] - 0.008786)**2 for i in range(len(m)-1)]\n",
    "\n",
    "print(f\"residual 3 {residual3}\")\n",
    "print(f\"residual 4 {residual4}\")\n",
    "print(f\"residual 5 {residual5}\")"
   ]
  },
  {
   "cell_type": "code",
   "execution_count": 40,
   "metadata": {},
   "outputs": [
    {
     "data": {
      "image/png": "[encoded data removed]",
      "text/plain": [
       "<Figure size 432x288 with 1 Axes>"
      ]
     },
     "metadata": {
      "needs_background": "light"
     },
     "output_type": "display_data"
    },
    {
     "data": {
      "image/png": "[encoded data removed]",
      "text/plain": [
       "<Figure size 432x288 with 1 Axes>"
      ]
     },
     "metadata": {
      "needs_background": "light"
     },
     "output_type": "display_data"
    },
    {
     "data": {
      "image/png": "[encoded data removed]",
      "text/plain": [
       "<Figure size 432x288 with 1 Axes>"
      ]
     },
     "metadata": {
      "needs_background": "light"
     },
     "output_type": "display_data"
    }
   ],
   "source": [
    "plt.scatter(m, residual3)\n",
    "plt.title(\"Residuals plot for Slit 3\")\n",
    "plt.ylabel(\"Residuals\")\n",
    "plt.show()\n",
    "\n",
    "plt.scatter(m, residual4)\n",
    "plt.title(\"Residuals plot for Slit 4\")\n",
    "plt.ylabel(\"Residuals\")\n",
    "plt.show()\n",
    "\n",
    "plt.scatter(m[1:len(m)], residual5)\n",
    "plt.title(\"Residuals plot for Slit 5\")\n",
    "plt.ylabel(\"Residuals\")\n",
    "plt.show()"
   ]
  },
  {
   "cell_type": "markdown",
   "metadata": {},
   "source": [
    "# Experiment 5: Double Thick Slit"
   ]
  },
  {
   "cell_type": "code",
   "execution_count": 69,
   "metadata": {},
   "outputs": [
    {
     "name": "stdout",
     "output_type": "stream",
     "text": [
      "a1: 0.01183806476412863\n",
      "d1: 0.08315062406015036 \n",
      "\n",
      "a2: 0.011527558014911461\n",
      "d2: 0.12429322527472526\n"
     ]
    }
   ],
   "source": [
    "n = np.linspace(1, 5, 5)\n",
    "m_d = np.linspace(1, 6, 6)\n",
    "\n",
    "a_min_1 = [0.88 ,1.70 , 2.75 , 3.68 , 4.64]\n",
    "a_min_1_err = 0.1\n",
    "\n",
    "d_max_1 = [0.20,0.38,0.54,0.70,0.90]\n",
    "d_max_1_err = [0.03] * 2 + [0.05] * 3\n",
    "\n",
    "a_min_2 = [0.90 ,1.8 ,2.9 ,3.7 ]\n",
    "a_min_2_err = [0.05, 0.1, 0.1, 0.2]\n",
    "\n",
    "d_max_2 = [0.25,0.40 , 0.7,1.0 ,1.3 ,1.6]\n",
    "d_max_2_err = [0.03, 0.05] + [0.1] * 4\n",
    "\n",
    "\n",
    "thick_a1 = [2 * n[i] * 6.35 * 10**(-5) *83.7/(a_min_1[i]) for i in range(len(n))]   \n",
    "thick_d1 = [2 * m_d[i+1] * 6.35 * 10**(-5) * 83.7/d_max_1[i] for i in range(len(m_d)-1)]\n",
    "\n",
    "thick_a2 = [2 * n[i] * 6.35 * 10**(-5) *83.7/(a_min_2[i]) for i in range(len(n)-1)]\n",
    "thick_d2 = [2 * m_d[i] * 6.35 * 10**(-5) * 236/d_max_2[i] for i in range(len(m_d))]\n",
    "\n",
    "print(f\"a1: {np.mean(thick_a1)}\")\n",
    "print(f\"d1: {np.mean(thick_d1)} \\n\")\n",
    "\n",
    "print(f\"a2: {np.mean(thick_a2)}\")\n",
    "print(f\"d2: {np.mean(thick_d2)}\")\n"
   ]
  },
  {
   "cell_type": "code",
   "execution_count": 48,
   "metadata": {},
   "outputs": [
    {
     "name": "stdout",
     "output_type": "stream",
     "text": [
      "[1. 2. 3. 4. 5. 6.]\n"
     ]
    }
   ],
   "source": [
    "print(m_d)"
   ]
  },
  {
   "cell_type": "code",
   "execution_count": 54,
   "metadata": {},
   "outputs": [
    {
     "name": "stdout",
     "output_type": "stream",
     "text": [
      "error a1: 6.181637802767774e-05\n",
      "error d1: 0.00030193239468198483 \n",
      "\n",
      "error a2: 6.51448218808438e-05\n",
      "error d2: 0.000998556086715574 \n",
      "\n"
     ]
    }
   ],
   "source": [
    "alpha_a1 = [2 * n[i] * 83.7 * 6.35 * 10**(-5)/(a_min_1[i]**2) * a_min_1_err**2 for i in range(len(n))]\n",
    "alpha_d1 = [2 * m_d[i+1] * 6.35 * 10**(-5) * 83.7/(d_max_1[i]**2) * d_max_1_err[i]**2 for i in range(len(m_d) -1)]\n",
    "\n",
    "alpha_a2 = [2 * n[i] * 83.7 * 6.35 * 10**(-5)/(a_min_2[i]**2) * a_min_2_err[i]**2 for i in range(len(n)-1)]\n",
    "alpha_d2 = [2 * m_d[i] * 6.35 * 10**(-5) * 236/(d_max_2[i]**2) * d_max_2_err[i]**2 for i in range(len(m_d))]\n",
    "\n",
    "print(f\"error a1: {np.mean(alpha_a1)}\")\n",
    "print(f\"error d1: {np.mean(alpha_d1)} \\n\")\n",
    "print(f\"error a2: {np.mean(alpha_a2)}\")\n",
    "print(f\"error d2: {np.mean(alpha_d2)} \\n\")"
   ]
  },
  {
   "cell_type": "code",
   "execution_count": 65,
   "metadata": {},
   "outputs": [
    {
     "data": {
      "image/png": "[encoded data removed]",
      "text/plain": [
       "<Figure size 432x288 with 1 Axes>"
      ]
     },
     "metadata": {
      "needs_background": "light"
     },
     "output_type": "display_data"
    },
    {
     "data": {
      "image/png": "[encoded data removed]",
      "text/plain": [
       "<Figure size 432x288 with 1 Axes>"
      ]
     },
     "metadata": {
      "needs_background": "light"
     },
     "output_type": "display_data"
    },
    {
     "data": {
      "image/png": "[encoded data removed]",
      "text/plain": [
       "<Figure size 432x288 with 1 Axes>"
      ]
     },
     "metadata": {
      "needs_background": "light"
     },
     "output_type": "display_data"
    },
    {
     "data": {
      "image/png": "[encoded data removed]",
      "text/plain": [
       "<Figure size 432x288 with 1 Axes>"
      ]
     },
     "metadata": {
      "needs_background": "light"
     },
     "output_type": "display_data"
    }
   ],
   "source": [
    "alpha_errors_a1 = [thick_a1[i] - 0.008786 for i in range(len(thick_a1))]\n",
    "alpha_errors_d1 = [thick_d1[i] - 0.0026358 for i in range(len(thick_d1))]\n",
    "\n",
    "alpha_errors_a2 = [thick_a2[i] - 0.008786 for i in range(len(thick_a2))]\n",
    "alpha_errors_d2 = [thick_d2[i] - 0.008786 for i in range(len(thick_d2))]\n",
    "\n",
    "plt.scatter(n, alpha_errors_a1)\n",
    "plt.title(\"Residuals for slit thickness, Trial 1\")\n",
    "plt.ylabel(\"Residuals\")\n",
    "plt.show()\n",
    "\n",
    "plt.scatter(n[0:len(n)-1], alpha_errors_a2)\n",
    "plt.title(\"Residuals for slit thickness, Trial 2\")\n",
    "plt.ylabel(\"Residuals\")\n",
    "plt.show()\n",
    "\n",
    "plt.scatter(m_d[0:len(m_d)-1], alpha_errors_d1)\n",
    "plt.title(\"Residuals for slit separation, Trial 1\")\n",
    "plt.ylabel(\"Residuals\")\n",
    "plt.show()\n",
    "\n",
    "plt.scatter(m_d, alpha_errors_d2)\n",
    "plt.title(\"Residuals for slit separation, Trial 1\")\n",
    "plt.ylabel(\"Residuals\")\n",
    "plt.show()"
   ]
  }
 ],
 "metadata": {
  "kernelspec": {
   "display_name": "Python 3.9.7 ('base')",
   "language": "python",
   "name": "python3"
  },
  "language_info": {
   "codemirror_mode": {
    "name": "ipython",
    "version": 3
   },
   "file_extension": ".py",
   "mimetype": "text/x-python",
   "name": "python",
   "nbconvert_exporter": "python",
   "pygments_lexer": "ipython3",
   "version": "3.9.7"
  },
  "orig_nbformat": 4,
  "vscode": {
   "interpreter": {
    "hash": "5f8929016d30f12a89eab5b5e02a6c1410fc73da4b23b89b4eb7a3bc58137fe5"
   }
  }
 },
 "nbformat": 4,
 "nbformat_minor": 2
}
